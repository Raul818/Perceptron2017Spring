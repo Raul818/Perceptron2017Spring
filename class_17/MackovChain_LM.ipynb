{
 "cells": [
  {
   "cell_type": "code",
   "execution_count": 1,
   "metadata": {
    "collapsed": true
   },
   "outputs": [],
   "source": [
    "import numpy as np"
   ]
  },
  {
   "cell_type": "code",
   "execution_count": 2,
   "metadata": {
    "collapsed": true
   },
   "outputs": [],
   "source": [
    "f = open('./input.txt', 'r')\n",
    "d = str(f.read())\n",
    "f.close()"
   ]
  },
  {
   "cell_type": "code",
   "execution_count": 7,
   "metadata": {
    "collapsed": false
   },
   "outputs": [
    {
     "name": "stdout",
     "output_type": "stream",
     "text": [
      "              The Sign of the Four\n",
      "\n",
      "                  The Adventures of Sherlock Holmes\n",
      "               A Scandal in Bohemia\n",
      "               The Red-Headed League\n",
      "               A Case of Identity\n",
      "               The Boscombe Valley Mystery\n",
      "               The Five Orange Pips\n",
      "               The Man wit\n"
     ]
    }
   ],
   "source": [
    "print d[200:500]"
   ]
  }
 ],
 "metadata": {
  "kernelspec": {
   "display_name": "Python 2",
   "language": "python",
   "name": "python2"
  },
  "language_info": {
   "codemirror_mode": {
    "name": "ipython",
    "version": 2
   },
   "file_extension": ".py",
   "mimetype": "text/x-python",
   "name": "python",
   "nbconvert_exporter": "python",
   "pygments_lexer": "ipython2",
   "version": "2.7.12"
  }
 },
 "nbformat": 4,
 "nbformat_minor": 2
}
