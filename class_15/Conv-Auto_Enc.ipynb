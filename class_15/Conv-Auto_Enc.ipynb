{
 "cells": [
  {
   "cell_type": "code",
   "execution_count": 1,
   "metadata": {
    "collapsed": false
   },
   "outputs": [
    {
     "name": "stderr",
     "output_type": "stream",
     "text": [
      "Using TensorFlow backend.\n"
     ]
    }
   ],
   "source": [
    "import numpy as np\n",
    "from matplotlib import pyplot as plt\n",
    "%matplotlib inline\n",
    "import pandas as pd\n",
    "\n",
    "import keras\n",
    "from keras.layers import Dense, Activation, Convolution2D, Reshape, Flatten, ZeroPadding2D\n",
    "from keras.layers import MaxPooling2D, UpSampling2D, Input, Dropout\n",
    "from keras.models import Sequential, Model"
   ]
  },
  {
   "cell_type": "code",
   "execution_count": 2,
   "metadata": {
    "collapsed": true
   },
   "outputs": [],
   "source": [
    "ds = pd.read_csv('../train.csv')\n",
    "data = ds.values[:1000]"
   ]
  },
  {
   "cell_type": "code",
   "execution_count": 3,
   "metadata": {
    "collapsed": false
   },
   "outputs": [
    {
     "name": "stdout",
     "output_type": "stream",
     "text": [
      "(1000, 785)\n"
     ]
    }
   ],
   "source": [
    "print data.shape\n",
    "X = data[:, 1:]\n",
    "X = X.reshape((X.shape[0], 28, 28, 1))"
   ]
  },
  {
   "cell_type": "code",
   "execution_count": 4,
   "metadata": {
    "collapsed": false
   },
   "outputs": [
    {
     "name": "stdout",
     "output_type": "stream",
     "text": [
      "(1000, 28, 28, 256)\n"
     ]
    }
   ],
   "source": [
    "def convert_color(col):\n",
    "    # convert from 0-255 to 0-15\n",
    "    return col/16\n",
    "\n",
    "#X_ = X/16\n",
    "#print X_.mean(), X_.max(), X_.min()\n",
    "\n",
    "X_new = np.zeros((X.shape[0], 28, 28, 256))\n",
    "\n",
    "for ix in range(X_new.shape[0]):\n",
    "    for ir in range(28):\n",
    "        for ic in range(28):\n",
    "            col = X[ix, ir, ic]\n",
    "            X_new[ix, ir, ic, col] = 1\n",
    "print X_new.shape"
   ]
  },
  {
   "cell_type": "code",
   "execution_count": 5,
   "metadata": {
    "collapsed": false
   },
   "outputs": [],
   "source": [
    "X = X_new"
   ]
  },
  {
   "cell_type": "code",
   "execution_count": 6,
   "metadata": {
    "collapsed": false
   },
   "outputs": [
    {
     "name": "stdout",
     "output_type": "stream",
     "text": [
      "(650, 28, 28, 256) (350, 28, 28, 256)\n"
     ]
    }
   ],
   "source": [
    "split = int(0.65 * X.shape[0])\n",
    "X_train = X[:split]\n",
    "X_val = X[split:]\n",
    "\n",
    "print X_train.shape, X_val.shape"
   ]
  },
  {
   "cell_type": "code",
   "execution_count": null,
   "metadata": {
    "collapsed": false
   },
   "outputs": [],
   "source": []
  },
  {
   "cell_type": "code",
   "execution_count": 16,
   "metadata": {
    "collapsed": false
   },
   "outputs": [
    {
     "name": "stdout",
     "output_type": "stream",
     "text": [
      "____________________________________________________________________________________________________\n",
      "Layer (type)                     Output Shape          Param #     Connected to                     \n",
      "====================================================================================================\n",
      "input_6 (InputLayer)             (None, 28, 28, 256)   0                                            \n",
      "____________________________________________________________________________________________________\n",
      "convolution2d_31 (Convolution2D) (None, 26, 26, 128)   295040      input_6[0][0]                    \n",
      "____________________________________________________________________________________________________\n",
      "convolution2d_32 (Convolution2D) (None, 24, 24, 64)    73792       convolution2d_31[0][0]           \n",
      "____________________________________________________________________________________________________\n",
      "maxpooling2d_6 (MaxPooling2D)    (None, 12, 12, 64)    0           convolution2d_32[0][0]           \n",
      "____________________________________________________________________________________________________\n",
      "convolution2d_33 (Convolution2D) (None, 10, 10, 8)     4616        maxpooling2d_6[0][0]             \n",
      "____________________________________________________________________________________________________\n",
      "zeropadding2d_16 (ZeroPadding2D) (None, 12, 12, 8)     0           convolution2d_33[0][0]           \n",
      "____________________________________________________________________________________________________\n",
      "convolution2d_34 (Convolution2D) (None, 12, 12, 64)    4672        zeropadding2d_16[0][0]           \n",
      "____________________________________________________________________________________________________\n",
      "upsampling2d_6 (UpSampling2D)    (None, 24, 24, 64)    0           convolution2d_34[0][0]           \n",
      "____________________________________________________________________________________________________\n",
      "zeropadding2d_17 (ZeroPadding2D) (None, 26, 26, 64)    0           upsampling2d_6[0][0]             \n",
      "____________________________________________________________________________________________________\n",
      "convolution2d_35 (Convolution2D) (None, 26, 26, 128)   73856       zeropadding2d_17[0][0]           \n",
      "____________________________________________________________________________________________________\n",
      "zeropadding2d_18 (ZeroPadding2D) (None, 28, 28, 128)   0           convolution2d_35[0][0]           \n",
      "____________________________________________________________________________________________________\n",
      "convolution2d_36 (Convolution2D) (None, 28, 28, 256)   295168      zeropadding2d_18[0][0]           \n",
      "====================================================================================================\n",
      "Total params: 747,144\n",
      "Trainable params: 747,144\n",
      "Non-trainable params: 0\n",
      "____________________________________________________________________________________________________\n"
     ]
    }
   ],
   "source": [
    "# Autoencoder\n",
    "embedding_shape = 3\n",
    "\n",
    "inp = Input(shape=(28, 28, 256))\n",
    "\n",
    "#--------- Encoder ------------------#\n",
    "c1 = Convolution2D(128, 3, 3, activation='relu')(inp)\n",
    "c2 = Convolution2D(64, 3, 3, activation='relu')(c1)\n",
    "m1 = MaxPooling2D(pool_size=(2, 2))(c2)\n",
    "c3 = Convolution2D(8, 3, 3, activation='relu')(m1)\n",
    "\n",
    "#---------- Embedding ----------------#\n",
    "#f1 = Flatten()(c3)\n",
    "#f1 = Dropout(0.4)(f1)\n",
    "\n",
    "#fc1 = Dense(embedding_shape, activation='sigmoid')(f1)\n",
    "#fc2 = Dense(800, activation='relu')(fc1)\n",
    "\n",
    "#rs = Reshape((10, 10, 8))(fc2)\n",
    "\n",
    "#--------- Decoder -------------------#\n",
    "zp1 = ZeroPadding2D(padding=(1, 1))(c3)\n",
    "dc1 = Convolution2D(64, 3, 3, border_mode='same', activation='relu')(zp1)\n",
    "up1 = UpSampling2D(size=(2, 2))(dc1)\n",
    "\n",
    "zp2 = ZeroPadding2D(padding=(1, 1))(up1)\n",
    "dc2 = Convolution2D(128, 3, 3, border_mode='same', activation='relu')(zp2)\n",
    "\n",
    "zp3 = ZeroPadding2D(padding=(1, 1))(dc2)\n",
    "dc3 = Convolution2D(256, 3, 3, border_mode='same', activation='sigmoid')(zp3)\n",
    "\n",
    "out = dc3\n",
    "\n",
    "model = Model(input=inp, output=out)\n",
    "model.summary()\n",
    "#encoder = Model(input=inp, output=fc1)\n",
    "model.compile(loss='mse', optimizer='adam', metrics=['accuracy'])"
   ]
  },
  {
   "cell_type": "code",
   "execution_count": 68,
   "metadata": {
    "collapsed": false,
    "scrolled": false
   },
   "outputs": [],
   "source": [
    "dec_in = Input(shape=(embedding_shape,))\n",
    "\n",
    "x = model.layers[8](dec_in)\n",
    "\n",
    "for ix in range(9, len(model.layers)):\n",
    "    x = model.layers[ix](x)\n",
    "\n",
    "decoder = Model(input=dec_in, output=x)\n",
    "# decoder.summary()"
   ]
  },
  {
   "cell_type": "code",
   "execution_count": 17,
   "metadata": {
    "collapsed": false,
    "scrolled": false
   },
   "outputs": [
    {
     "name": "stdout",
     "output_type": "stream",
     "text": [
      "Train on 650 samples, validate on 350 samples\n",
      "Epoch 1/10\n",
      "8s - loss: 0.2300 - acc: 0.5212 - val_loss: 0.1036 - val_acc: 0.8026\n",
      "Epoch 2/10\n",
      "6s - loss: 0.0410 - acc: 0.8057 - val_loss: 0.0044 - val_acc: 0.8026\n",
      "Epoch 3/10\n",
      "6s - loss: 0.0028 - acc: 0.8057 - val_loss: 0.0018 - val_acc: 0.8026\n",
      "Epoch 4/10\n",
      "6s - loss: 0.0016 - acc: 0.8057 - val_loss: 0.0016 - val_acc: 0.8026\n",
      "Epoch 5/10\n",
      "7s - loss: 0.0015 - acc: 0.8057 - val_loss: 0.0015 - val_acc: 0.8026\n",
      "Epoch 6/10\n",
      "6s - loss: 0.0015 - acc: 0.8057 - val_loss: 0.0015 - val_acc: 0.8026\n",
      "Epoch 7/10\n",
      "7s - loss: 0.0015 - acc: 0.8057 - val_loss: 0.0015 - val_acc: 0.8026\n",
      "Epoch 8/10\n",
      "7s - loss: 0.0015 - acc: 0.8057 - val_loss: 0.0015 - val_acc: 0.8026\n",
      "Epoch 9/10\n",
      "7s - loss: 0.0015 - acc: 0.8057 - val_loss: 0.0015 - val_acc: 0.8026\n",
      "Epoch 10/10\n",
      "7s - loss: 0.0015 - acc: 0.8057 - val_loss: 0.0015 - val_acc: 0.8026\n"
     ]
    }
   ],
   "source": [
    "hist = model.fit(X_train, X_train,\n",
    "                nb_epoch=10,\n",
    "                shuffle=True,\n",
    "                batch_size=100,\n",
    "                validation_data=(X_val, X_val), verbose=2)"
   ]
  },
  {
   "cell_type": "code",
   "execution_count": 18,
   "metadata": {
    "collapsed": false
   },
   "outputs": [
    {
     "data": {
      "text/plain": [
       "[<matplotlib.lines.Line2D at 0x7f62be99fad0>]"
      ]
     },
     "execution_count": 18,
     "metadata": {},
     "output_type": "execute_result"
    },
    {
     "data": {
      "image/png": "[encoded data removed]",
      "text/plain": [
       "<matplotlib.figure.Figure at 0x7f62ad616250>"
      ]
     },
     "metadata": {},
     "output_type": "display_data"
    },
    {
     "data": {
      "image/png": "[encoded data removed]",
      "text/plain": [
       "<matplotlib.figure.Figure at 0x7f62be989cd0>"
      ]
     },
     "metadata": {},
     "output_type": "display_data"
    }
   ],
   "source": [
    "th = hist.history\n",
    "\n",
    "plt.figure(0)\n",
    "plt.plot(th['loss'], 'b')\n",
    "plt.plot(th['val_loss'], 'g')\n",
    "\n",
    "plt.figure(1)\n",
    "plt.plot(th['acc'], 'b')\n",
    "plt.plot(th['val_acc'], 'g')"
   ]
  },
  {
   "cell_type": "code",
   "execution_count": 20,
   "metadata": {
    "collapsed": false
   },
   "outputs": [
    {
     "name": "stdout",
     "output_type": "stream",
     "text": [
      "(10, 28, 28, 256)\n"
     ]
    }
   ],
   "source": [
    "emb = model.predict(X_train[:10])\n",
    "print emb.shape"
   ]
  },
  {
   "cell_type": "code",
   "execution_count": 36,
   "metadata": {
    "collapsed": false
   },
   "outputs": [
    {
     "name": "stdout",
     "output_type": "stream",
     "text": [
      "(10, 32)\n"
     ]
    }
   ],
   "source": [
    "new_emb = np.random.sample((10, embedding_shape))\n",
    "print new_emb.shape"
   ]
  },
  {
   "cell_type": "code",
   "execution_count": 55,
   "metadata": {
    "collapsed": false
   },
   "outputs": [],
   "source": [
    "def convert_back(col):\n",
    "    return 8*(2*col + 1)"
   ]
  },
  {
   "cell_type": "code",
   "execution_count": 72,
   "metadata": {
    "collapsed": false
   },
   "outputs": [
    {
     "name": "stdout",
     "output_type": "stream",
     "text": [
      "(1000, 28, 28, 16)\n"
     ]
    }
   ],
   "source": [
    "out = decoder.predict(emb)\n",
    "print out.shape"
   ]
  },
  {
   "cell_type": "code",
   "execution_count": 23,
   "metadata": {
    "collapsed": false
   },
   "outputs": [
    {
     "name": "stdout",
     "output_type": "stream",
     "text": [
      "0.0\n"
     ]
    }
   ],
   "source": [
    "ot = np.zeros((emb.shape[0], 28, 28, 1))\n",
    "\n",
    "for ix in range(emb.shape[0]):\n",
    "    for ir in range(28):\n",
    "        for ic in range(28):\n",
    "            col = emb[ix, ir, ic].argmax()\n",
    "            ot[ix, ir, ic] = col\n",
    "print ot.max()"
   ]
  },
  {
   "cell_type": "code",
   "execution_count": 74,
   "metadata": {
    "collapsed": false
   },
   "outputs": [
    {
     "name": "stdout",
     "output_type": "stream",
     "text": [
      "[[ 8.  8.  8.  8.  8.  8.  8.  8.  8.  8.  8.  8.  8.  8.  8.  8.  8.  8.\n",
      "   8.  8.  8.  8.  8.  8.  8.  8.  8.  8.]\n",
      " [ 8.  8.  8.  8.  8.  8.  8.  8.  8.  8.  8.  8.  8.  8.  8.  8.  8.  8.\n",
      "   8.  8.  8.  8.  8.  8.  8.  8.  8.  8.]\n",
      " [ 8.  8.  8.  8.  8.  8.  8.  8.  8.  8.  8.  8.  8.  8.  8.  8.  8.  8.\n",
      "   8.  8.  8.  8.  8.  8.  8.  8.  8.  8.]\n",
      " [ 8.  8.  8.  8.  8.  8.  8.  8.  8.  8.  8.  8.  8.  8.  8.  8.  8.  8.\n",
      "   8.  8.  8.  8.  8.  8.  8.  8.  8.  8.]\n",
      " [ 8.  8.  8.  8.  8.  8.  8.  8.  8.  8.  8.  8.  8.  8.  8.  8.  8.  8.\n",
      "   8.  8.  8.  8.  8.  8.  8.  8.  8.  8.]\n",
      " [ 8.  8.  8.  8.  8.  8.  8.  8.  8.  8.  8.  8.  8.  8.  8.  8.  8.  8.\n",
      "   8.  8.  8.  8.  8.  8.  8.  8.  8.  8.]\n",
      " [ 8.  8.  8.  8.  8.  8.  8.  8.  8.  8.  8.  8.  8.  8.  8.  8.  8.  8.\n",
      "   8.  8.  8.  8.  8.  8.  8.  8.  8.  8.]\n",
      " [ 8.  8.  8.  8.  8.  8.  8.  8.  8.  8.  8.  8.  8.  8.  8.  8.  8.  8.\n",
      "   8.  8.  8.  8.  8.  8.  8.  8.  8.  8.]\n",
      " [ 8.  8.  8.  8.  8.  8.  8.  8.  8.  8.  8.  8.  8.  8.  8.  8.  8.  8.\n",
      "   8.  8.  8.  8.  8.  8.  8.  8.  8.  8.]\n",
      " [ 8.  8.  8.  8.  8.  8.  8.  8.  8.  8.  8.  8.  8.  8.  8.  8.  8.  8.\n",
      "   8.  8.  8.  8.  8.  8.  8.  8.  8.  8.]\n",
      " [ 8.  8.  8.  8.  8.  8.  8.  8.  8.  8.  8.  8.  8.  8.  8.  8.  8.  8.\n",
      "   8.  8.  8.  8.  8.  8.  8.  8.  8.  8.]\n",
      " [ 8.  8.  8.  8.  8.  8.  8.  8.  8.  8.  8.  8.  8.  8.  8.  8.  8.  8.\n",
      "   8.  8.  8.  8.  8.  8.  8.  8.  8.  8.]\n",
      " [ 8.  8.  8.  8.  8.  8.  8.  8.  8.  8.  8.  8.  8.  8.  8.  8.  8.  8.\n",
      "   8.  8.  8.  8.  8.  8.  8.  8.  8.  8.]\n",
      " [ 8.  8.  8.  8.  8.  8.  8.  8.  8.  8.  8.  8.  8.  8.  8.  8.  8.  8.\n",
      "   8.  8.  8.  8.  8.  8.  8.  8.  8.  8.]\n",
      " [ 8.  8.  8.  8.  8.  8.  8.  8.  8.  8.  8.  8.  8.  8.  8.  8.  8.  8.\n",
      "   8.  8.  8.  8.  8.  8.  8.  8.  8.  8.]\n",
      " [ 8.  8.  8.  8.  8.  8.  8.  8.  8.  8.  8.  8.  8.  8.  8.  8.  8.  8.\n",
      "   8.  8.  8.  8.  8.  8.  8.  8.  8.  8.]\n",
      " [ 8.  8.  8.  8.  8.  8.  8.  8.  8.  8.  8.  8.  8.  8.  8.  8.  8.  8.\n",
      "   8.  8.  8.  8.  8.  8.  8.  8.  8.  8.]\n",
      " [ 8.  8.  8.  8.  8.  8.  8.  8.  8.  8.  8.  8.  8.  8.  8.  8.  8.  8.\n",
      "   8.  8.  8.  8.  8.  8.  8.  8.  8.  8.]\n",
      " [ 8.  8.  8.  8.  8.  8.  8.  8.  8.  8.  8.  8.  8.  8.  8.  8.  8.  8.\n",
      "   8.  8.  8.  8.  8.  8.  8.  8.  8.  8.]\n",
      " [ 8.  8.  8.  8.  8.  8.  8.  8.  8.  8.  8.  8.  8.  8.  8.  8.  8.  8.\n",
      "   8.  8.  8.  8.  8.  8.  8.  8.  8.  8.]\n",
      " [ 8.  8.  8.  8.  8.  8.  8.  8.  8.  8.  8.  8.  8.  8.  8.  8.  8.  8.\n",
      "   8.  8.  8.  8.  8.  8.  8.  8.  8.  8.]\n",
      " [ 8.  8.  8.  8.  8.  8.  8.  8.  8.  8.  8.  8.  8.  8.  8.  8.  8.  8.\n",
      "   8.  8.  8.  8.  8.  8.  8.  8.  8.  8.]\n",
      " [ 8.  8.  8.  8.  8.  8.  8.  8.  8.  8.  8.  8.  8.  8.  8.  8.  8.  8.\n",
      "   8.  8.  8.  8.  8.  8.  8.  8.  8.  8.]\n",
      " [ 8.  8.  8.  8.  8.  8.  8.  8.  8.  8.  8.  8.  8.  8.  8.  8.  8.  8.\n",
      "   8.  8.  8.  8.  8.  8.  8.  8.  8.  8.]\n",
      " [ 8.  8.  8.  8.  8.  8.  8.  8.  8.  8.  8.  8.  8.  8.  8.  8.  8.  8.\n",
      "   8.  8.  8.  8.  8.  8.  8.  8.  8.  8.]\n",
      " [ 8.  8.  8.  8.  8.  8.  8.  8.  8.  8.  8.  8.  8.  8.  8.  8.  8.  8.\n",
      "   8.  8.  8.  8.  8.  8.  8.  8.  8.  8.]\n",
      " [ 8.  8.  8.  8.  8.  8.  8.  8.  8.  8.  8.  8.  8.  8.  8.  8.  8.  8.\n",
      "   8.  8.  8.  8.  8.  8.  8.  8.  8.  8.]\n",
      " [ 8.  8.  8.  8.  8.  8.  8.  8.  8.  8.  8.  8.  8.  8.  8.  8.  8.  8.\n",
      "   8.  8.  8.  8.  8.  8.  8.  8.  8.  8.]]\n"
     ]
    }
   ],
   "source": [
    "out = ot\n",
    "print out[1].reshape((28, 28))"
   ]
  },
  {
   "cell_type": "code",
   "execution_count": 76,
   "metadata": {
    "collapsed": false,
    "scrolled": false
   },
   "outputs": [
    {
     "data": {
      "image/png": "[encoded data removed]",
      "text/plain": [
       "<matplotlib.figure.Figure at 0x7efc79e54210>"
      ]
     },
     "metadata": {},
     "output_type": "display_data"
    }
   ],
   "source": [
    "ix = 10\n",
    "#plt.subplot(1, 2, 1)\n",
    "plt.imshow(out[ix].reshape((28, 28)), cmap='gray')\n",
    "#plt.subplot(1, 2, 2)\n",
    "#plt.imshow(X_train[ix].reshape((28, 28)), cmap='gray')\n",
    "plt.show()"
   ]
  },
  {
   "cell_type": "code",
   "execution_count": null,
   "metadata": {
    "collapsed": true
   },
   "outputs": [],
   "source": []
  }
 ],
 "metadata": {
  "kernelspec": {
   "display_name": "Python 2",
   "language": "python",
   "name": "python2"
  },
  "language_info": {
   "codemirror_mode": {
    "name": "ipython",
    "version": 2
   },
   "file_extension": ".py",
   "mimetype": "text/x-python",
   "name": "python",
   "nbconvert_exporter": "python",
   "pygments_lexer": "ipython2",
   "version": "2.7.12"
  }
 },
 "nbformat": 4,
 "nbformat_minor": 2
}
