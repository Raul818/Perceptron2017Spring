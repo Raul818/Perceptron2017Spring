{
 "cells": [
  {
   "cell_type": "code",
   "execution_count": 1,
   "metadata": {
    "collapsed": true
   },
   "outputs": [],
   "source": [
    "import numpy as np"
   ]
  },
  {
   "cell_type": "code",
   "execution_count": 2,
   "metadata": {
    "collapsed": true
   },
   "outputs": [],
   "source": [
    "f = open('./input.txt', 'r')\n",
    "d = str(f.read())\n",
    "f.close()"
   ]
  },
  {
   "cell_type": "code",
   "execution_count": 25,
   "metadata": {
    "collapsed": false
   },
   "outputs": [],
   "source": [
    "d = d.decode('utf-8')"
   ]
  },
  {
   "cell_type": "code",
   "execution_count": 26,
   "metadata": {
    "collapsed": false
   },
   "outputs": [
    {
     "name": "stdout",
     "output_type": "stream",
     "text": [
      "1690964\n"
     ]
    }
   ],
   "source": [
    "print len(d)/2"
   ]
  },
  {
   "cell_type": "code",
   "execution_count": 27,
   "metadata": {
    "collapsed": false
   },
   "outputs": [],
   "source": [
    "data = d.strip().lower()"
   ]
  },
  {
   "cell_type": "code",
   "execution_count": 112,
   "metadata": {
    "collapsed": false
   },
   "outputs": [
    {
     "name": "stdout",
     "output_type": "stream",
     "text": [
      ".....\n",
      ".....\n",
      ".....\n",
      ".....\n",
      ".....\n",
      ".....\n",
      ".....\n",
      ".....\n",
      ".....\n",
      ".....\n"
     ]
    }
   ],
   "source": [
    "# language model\n",
    "order = 4\n",
    "lm = {}\n",
    "n = 2000000\n",
    "\n",
    "for ix in range(n):\n",
    "    dt = '*'*order + data\n",
    "    ctx = dt[ix:ix+order]\n",
    "    nxt = dt[ix+order]\n",
    "    \n",
    "    if (float(ix*100)/n)%10 == 0:\n",
    "        print '.....'\n",
    "    \n",
    "    # print ctx, nxt\n",
    "    try:\n",
    "        lm[ctx][nxt] += 1\n",
    "    except:\n",
    "        try:\n",
    "            lm[ctx][nxt] = 1\n",
    "        except:\n",
    "            lm[ctx] = {}\n",
    "            lm[ctx][nxt] = 1"
   ]
  },
  {
   "cell_type": "code",
   "execution_count": 113,
   "metadata": {
    "collapsed": false,
    "scrolled": true
   },
   "outputs": [],
   "source": [
    "for k in lm.keys():\n",
    "    s = 0\n",
    "    for kx in lm[k].keys():\n",
    "        s += lm[k][kx]\n",
    "    for kx in lm[k].keys():\n",
    "        lm[k][kx] /= float(s)\n",
    "    # print lm[k], k"
   ]
  },
  {
   "cell_type": "code",
   "execution_count": 84,
   "metadata": {
    "collapsed": false
   },
   "outputs": [
    {
     "data": {
      "text/plain": [
       "{u'b': 0.01639344262295082,\n",
       " u'e': 0.3360655737704918,\n",
       " u'f': 0.03278688524590164,\n",
       " u'i': 0.03278688524590164,\n",
       " u'm': 0.12295081967213115,\n",
       " u'p': 0.45081967213114754,\n",
       " u'r': 0.00819672131147541}"
      ]
     },
     "execution_count": 84,
     "metadata": {},
     "output_type": "execute_result"
    }
   ],
   "source": [
    "lm['com']"
   ]
  },
  {
   "cell_type": "code",
   "execution_count": 85,
   "metadata": {
    "collapsed": true
   },
   "outputs": [],
   "source": [
    "def generate_chars(ctx, model):\n",
    "    r = np.random.random()\n",
    "    try:\n",
    "        possible = model[ctx]\n",
    "        for k in possible.keys():\n",
    "            if r-possible[k] < 0:\n",
    "                return k\n",
    "        return possible.keys()[int(len(possible.keys())*r)]\n",
    "    except:\n",
    "        return ' '"
   ]
  },
  {
   "cell_type": "code",
   "execution_count": 92,
   "metadata": {
    "collapsed": false
   },
   "outputs": [
    {
     "data": {
      "text/plain": [
       "u'm'"
      ]
     },
     "execution_count": 92,
     "metadata": {},
     "output_type": "execute_result"
    }
   ],
   "source": [
    "generate_chars('com', lm)\n"
   ]
  },
  {
   "cell_type": "code",
   "execution_count": 93,
   "metadata": {
    "collapsed": true
   },
   "outputs": [],
   "source": [
    "def sample(start='*', length=500):\n",
    "    text = start*order\n",
    "    for ix in range(length):\n",
    "        text += generate_chars(text[ix:ix+order], lm)\n",
    "    return text"
   ]
  },
  {
   "cell_type": "code",
   "execution_count": 111,
   "metadata": {
    "collapsed": false
   },
   "outputs": [
    {
     "name": "stdout",
     "output_type": "stream",
     "text": [
      "***the jumpty new wave, up. i ampanion of we appeardone of throuplettle lying just help us strat--one rooms ther yestop, would is?\"\n",
      "\n",
      "     wave nument. longradenly slitter did no fere of rough, is?\"\n",
      "\n",
      "    you on open--if at nigh, stamfor.\"\n",
      "\n",
      "   regson seat\n",
      "     ver\n",
      "    work, an gate marrow.\"\n",
      "\n",
      "        quire ver up sot pape-leant i\n",
      "     why thetingy shalves a\n",
      "   nating judgmensequeleverlock holmess ampetection a you lin, and raping fusion!\" comewhat sloperion nose minued, lauring lessive gular loor, yeart a ployed had groupleanist; and at knely facsimpant night hot. alladoxes faultate thurriving royal none type. formediatomy.--impleanswerer, and joyed. a made of mateur you on said\n",
      "   uls by no me five two\n",
      "     rispoke ture of ral a cant, he atta\n",
      "   yout have ping agazinen. hall knoch\n",
      "     shope. my\n",
      "    occurraudle!\" i am reak as not law. you per? thustudy. least unite mixton rules\n",
      "    you in labout type, ken i the ver, you?\"\n",
      "\n",
      "         revolves had nor rancy or evolumedily know new mely is grea\n"
     ]
    }
   ],
   "source": [
    "print sample(length=1000)"
   ]
  },
  {
   "cell_type": "code",
   "execution_count": 62,
   "metadata": {
    "collapsed": false
   },
   "outputs": [
    {
     "name": "stdout",
     "output_type": "stream",
     "text": [
      "**\n",
      "**1\n"
     ]
    }
   ],
   "source": [
    "a = '**'\n",
    "print a[0:0+2]\n",
    "a += '1'\n",
    "print a"
   ]
  }
 ],
 "metadata": {
  "kernelspec": {
   "display_name": "Python 2",
   "language": "python",
   "name": "python2"
  },
  "language_info": {
   "codemirror_mode": {
    "name": "ipython",
    "version": 2
   },
   "file_extension": ".py",
   "mimetype": "text/x-python",
   "name": "python",
   "nbconvert_exporter": "python",
   "pygments_lexer": "ipython2",
   "version": "2.7.12"
  }
 },
 "nbformat": 4,
 "nbformat_minor": 2
}
