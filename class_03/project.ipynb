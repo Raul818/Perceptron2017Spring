{
 "cells": [
  {
   "cell_type": "code",
   "execution_count": 2,
   "metadata": {
    "collapsed": true
   },
   "outputs": [],
   "source": [
    "import numpy as np\n",
    "import cv2\n",
    "from matplotlib import pyplot as plt\n",
    "%matplotlib inline\n",
    "import os"
   ]
  },
  {
   "cell_type": "code",
   "execution_count": 12,
   "metadata": {
    "collapsed": false
   },
   "outputs": [
    {
     "name": "stdout",
     "output_type": "stream",
     "text": [
      "['./data/shubham/img_02.jpg', './data/shubham/img_01.jpg', './data/person_01/img_02.jpg', './data/person_01/img_01.jpg']\n"
     ]
    }
   ],
   "source": [
    "files = os.listdir('./data/')\n",
    "# print files\n",
    "faces_paths = []\n",
    "\n",
    "for f in files:\n",
    "    ims = os.listdir('./data/' + f)\n",
    "    # print f, ims\n",
    "    for px in ims:\n",
    "        faces_paths.append('./data/' + f + '/' + px)\n",
    "\n",
    "print faces_paths"
   ]
  },
  {
   "cell_type": "code",
   "execution_count": 21,
   "metadata": {
    "collapsed": false
   },
   "outputs": [
    {
     "name": "stdout",
     "output_type": "stream",
     "text": [
      "4\n"
     ]
    }
   ],
   "source": [
    "imgs = []\n",
    "\n",
    "for fx in faces_paths:\n",
    "    im = cv2.imread(fx)\n",
    "    im = cv2.cvtColor(im, cv2.COLOR_BGR2RGB)\n",
    "    imgs.append(im)\n",
    "\n",
    "print len(imgs)"
   ]
  },
  {
   "cell_type": "code",
   "execution_count": 23,
   "metadata": {
    "collapsed": false
   },
   "outputs": [],
   "source": [
    "#for ix in range(len(imgs)):\n",
    "#    plt.figure(ix)\n",
    "#    plt.imshow(imgs[ix])\n",
    "#\n",
    "#plt.show()\n",
    "# https://github.com/coding-blocks/Perceptron2017Spring"
   ]
  },
  {
   "cell_type": "code",
   "execution_count": 40,
   "metadata": {
    "collapsed": false
   },
   "outputs": [
    {
     "name": "stdout",
     "output_type": "stream",
     "text": [
      "(550, 380, 3)\n",
      "(100, 10, 3)\n"
     ]
    },
    {
     "data": {
      "image/png": "[encoded data removed]",
      "text/plain": [
       "<matplotlib.figure.Figure at 0x7fc0f0eb7a10>"
      ]
     },
     "metadata": {},
     "output_type": "display_data"
    }
   ],
   "source": [
    "plt.figure(0)\n",
    "im = imgs[0][200:750, 780:760+400, :]\n",
    "print im.shape\n",
    "\n",
    "img = cv2.resize(im, (100, 100))\n",
    "\n",
    "print img.shape\n",
    "plt.imshow(img)\n",
    "plt.show()"
   ]
  },
  {
   "cell_type": "code",
   "execution_count": null,
   "metadata": {
    "collapsed": true
   },
   "outputs": [],
   "source": []
  },
  {
   "cell_type": "code",
   "execution_count": null,
   "metadata": {
    "collapsed": true
   },
   "outputs": [],
   "source": []
  }
 ],
 "metadata": {
  "kernelspec": {
   "display_name": "Python 2",
   "language": "python",
   "name": "python2"
  },
  "language_info": {
   "codemirror_mode": {
    "name": "ipython",
    "version": 2
   },
   "file_extension": ".py",
   "mimetype": "text/x-python",
   "name": "python",
   "nbconvert_exporter": "python",
   "pygments_lexer": "ipython2",
   "version": "2.7.12"
  }
 },
 "nbformat": 4,
 "nbformat_minor": 2
}
