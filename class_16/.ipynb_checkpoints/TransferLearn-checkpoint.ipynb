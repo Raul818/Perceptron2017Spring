{
 "cells": [
  {
   "cell_type": "code",
   "execution_count": 1,
   "metadata": {
    "collapsed": false
   },
   "outputs": [
    {
     "name": "stderr",
     "output_type": "stream",
     "text": [
      "Using TensorFlow backend.\n"
     ]
    }
   ],
   "source": [
    "import numpy as np\n",
    "from matplotlib import pyplot as plt\n",
    "%matplotlib inline\n",
    "\n",
    "import keras\n",
    "from keras.datasets import mnist, cifar10\n",
    "from keras.layers import Dense, Convolution2D, Flatten, Activation, MaxPool2D, Dropout, Flatten\n",
    "from keras.models import Sequential\n",
    "from keras.utils import np_utils"
   ]
  },
  {
   "cell_type": "code",
   "execution_count": 2,
   "metadata": {
    "collapsed": true
   },
   "outputs": [],
   "source": [
    "# Import MNIST Datasets\n",
    "(x_train, y_train), (x_test, y_test) = mnist.load_data()\n",
    "n_examples = 40000"
   ]
  },
  {
   "cell_type": "code",
   "execution_count": 3,
   "metadata": {
    "collapsed": false
   },
   "outputs": [],
   "source": [
    "X1_train = []\n",
    "X1_test = []\n",
    "\n",
    "X2_train = []\n",
    "X2_test = []\n",
    "\n",
    "Y1_train = []\n",
    "Y1_test = []\n",
    "\n",
    "Y2_train = []\n",
    "Y2_test = []\n",
    "\n",
    "for ix in range(n_examples):\n",
    "    if y_train[ix] < 5:\n",
    "        # Put data in set 01\n",
    "        X1_train.append(x_train[ix]/255.0)\n",
    "        Y1_train.append(y_train[ix])\n",
    "    else:\n",
    "        # Put data in set 02\n",
    "        X2_train.append(x_train[ix]/255.0)\n",
    "        Y2_train.append(y_train[ix])\n",
    "\n",
    "for ix in range(y_test.shape[0]):\n",
    "    if y_test[ix] < 5:\n",
    "        # Put data in set 01\n",
    "        X1_test.append(x_test[ix]/255.0)\n",
    "        Y1_test.append(y_test[ix])\n",
    "    else:\n",
    "        # Put data in set 02\n",
    "        X2_test.append(x_test[ix]/255.0)\n",
    "        Y2_test.append(y_test[ix])"
   ]
  },
  {
   "cell_type": "code",
   "execution_count": 4,
   "metadata": {
    "collapsed": false
   },
   "outputs": [],
   "source": [
    "X1_train = np.asarray(X1_train).reshape((-1, 28, 28, 1))\n",
    "X1_test = np.asarray(X1_test).reshape((-1, 28, 28, 1))\n",
    "\n",
    "X2_train = np.asarray(X2_train).reshape((-1, 28, 28, 1))\n",
    "X2_test = np.asarray(X2_test).reshape((-1, 28, 28, 1))\n",
    "\n",
    "Y1_train = np_utils.to_categorical(np.asarray(Y1_train), num_classes=5)\n",
    "Y1_test = np_utils.to_categorical(np.asarray(Y1_test), num_classes=5)\n",
    "\n",
    "Y2_train = np_utils.to_categorical(np.asarray(Y2_train), num_classes=10)\n",
    "Y2_test = np_utils.to_categorical(np.asarray(Y2_test), num_classes=10)"
   ]
  },
  {
   "cell_type": "code",
   "execution_count": 5,
   "metadata": {
    "collapsed": true
   },
   "outputs": [],
   "source": [
    "split1 = int(0.8 * X1_train.shape[0])\n",
    "split2 = int(0.8 * X2_train.shape[0])\n",
    "\n",
    "x1_val = X1_train[split1:]\n",
    "x1_train = X1_train[:split1]\n",
    "y1_val = Y1_train[split1:]\n",
    "y1_train = Y1_train[:split1]\n",
    "\n",
    "x2_val = X2_train[split2:]\n",
    "x2_train = X2_train[:split2]\n",
    "y2_val = Y2_train[split2:]\n",
    "y2_train = Y2_train[:split2]\n"
   ]
  },
  {
   "cell_type": "code",
   "execution_count": 6,
   "metadata": {
    "collapsed": false
   },
   "outputs": [
    {
     "name": "stdout",
     "output_type": "stream",
     "text": [
      "(16336, 28, 28, 1) (5139, 28, 28, 1)\n",
      "(20420, 5) (5139, 5)\n",
      "(19580, 28, 28, 1) (4861, 28, 28, 1)\n",
      "(19580, 10) (4861, 10)\n"
     ]
    }
   ],
   "source": [
    "print x1_train.shape, X1_test.shape\n",
    "print Y1_train.shape, Y1_test.shape\n",
    "\n",
    "print X2_train.shape, X2_test.shape\n",
    "print Y2_train.shape, Y2_test.shape"
   ]
  },
  {
   "cell_type": "code",
   "execution_count": 7,
   "metadata": {
    "collapsed": false
   },
   "outputs": [
    {
     "name": "stdout",
     "output_type": "stream",
     "text": [
      "_________________________________________________________________\n",
      "Layer (type)                 Output Shape              Param #   \n",
      "=================================================================\n",
      "conv2d_1 (Conv2D)            (None, 24, 24, 32)        832       \n",
      "_________________________________________________________________\n",
      "conv2d_2 (Conv2D)            (None, 20, 20, 16)        12816     \n",
      "_________________________________________________________________\n",
      "max_pooling2d_1 (MaxPooling2 (None, 10, 10, 16)        0         \n",
      "_________________________________________________________________\n",
      "conv2d_3 (Conv2D)            (None, 8, 8, 8)           1160      \n",
      "_________________________________________________________________\n",
      "flatten_1 (Flatten)          (None, 512)               0         \n",
      "_________________________________________________________________\n",
      "dropout_1 (Dropout)          (None, 512)               0         \n",
      "_________________________________________________________________\n",
      "dense_1 (Dense)              (None, 128)               65664     \n",
      "_________________________________________________________________\n",
      "activation_1 (Activation)    (None, 128)               0         \n",
      "_________________________________________________________________\n",
      "dense_2 (Dense)              (None, 5)                 645       \n",
      "_________________________________________________________________\n",
      "activation_2 (Activation)    (None, 5)                 0         \n",
      "=================================================================\n",
      "Total params: 81,117.0\n",
      "Trainable params: 81,117.0\n",
      "Non-trainable params: 0.0\n",
      "_________________________________________________________________\n"
     ]
    }
   ],
   "source": [
    "model = Sequential()\n",
    "\n",
    "model.add(Convolution2D(32, 5, input_shape=(28, 28, 1), activation='relu'))\n",
    "model.add(Convolution2D(16, 5, activation='relu'))\n",
    "model.add(MaxPool2D(pool_size=(2, 2)))\n",
    "model.add(Convolution2D(8, 3, activation='relu'))\n",
    "model.add(Flatten())\n",
    "model.add(Dropout(0.42))\n",
    "\n",
    "model.add(Dense(128))\n",
    "model.add(Activation('relu'))\n",
    "\n",
    "model.add(Dense(5))\n",
    "model.add(Activation('softmax'))\n",
    "\n",
    "model.summary()\n",
    "model.compile(loss='categorical_crossentropy', optimizer='adam', metrics=['accuracy'])"
   ]
  },
  {
   "cell_type": "code",
   "execution_count": 13,
   "metadata": {
    "collapsed": false
   },
   "outputs": [
    {
     "name": "stdout",
     "output_type": "stream",
     "text": [
      "0:00:05.005437\n"
     ]
    }
   ],
   "source": [
    "# Add Time module to track training time\n",
    "import time\n",
    "import datetime\n",
    "\n",
    "a = datetime.datetime.now()\n",
    "time.sleep(5)\n",
    "print datetime.datetime.now() - a"
   ]
  },
  {
   "cell_type": "code",
   "execution_count": 9,
   "metadata": {
    "collapsed": false
   },
   "outputs": [
    {
     "name": "stderr",
     "output_type": "stream",
     "text": [
      "/usr/local/lib/python2.7/dist-packages/keras/models.py:826: UserWarning: The `nb_epoch` argument in `fit` has been renamed `epochs`.\n",
      "  warnings.warn('The `nb_epoch` argument in `fit` '\n"
     ]
    },
    {
     "name": "stdout",
     "output_type": "stream",
     "text": [
      "Train on 16336 samples, validate on 4084 samples\n",
      "Epoch 1/10\n",
      "3s - loss: 0.2427 - acc: 0.9158 - val_loss: 0.0447 - val_acc: 0.9858\n",
      "Epoch 2/10\n",
      "2s - loss: 0.0595 - acc: 0.9809 - val_loss: 0.0329 - val_acc: 0.9890\n",
      "Epoch 3/10\n",
      "2s - loss: 0.0405 - acc: 0.9873 - val_loss: 0.0232 - val_acc: 0.9917\n",
      "Epoch 4/10\n",
      "2s - loss: 0.0321 - acc: 0.9890 - val_loss: 0.0176 - val_acc: 0.9946\n",
      "Epoch 5/10\n",
      "2s - loss: 0.0262 - acc: 0.9920 - val_loss: 0.0131 - val_acc: 0.9956\n",
      "Epoch 6/10\n",
      "2s - loss: 0.0202 - acc: 0.9935 - val_loss: 0.0245 - val_acc: 0.9922\n",
      "Epoch 7/10\n",
      "2s - loss: 0.0179 - acc: 0.9941 - val_loss: 0.0157 - val_acc: 0.9944\n",
      "Epoch 8/10\n",
      "2s - loss: 0.0173 - acc: 0.9944 - val_loss: 0.0168 - val_acc: 0.9949\n",
      "Epoch 9/10\n",
      "2s - loss: 0.0131 - acc: 0.9949 - val_loss: 0.0102 - val_acc: 0.9976\n",
      "Epoch 10/10\n",
      "2s - loss: 0.0143 - acc: 0.9961 - val_loss: 0.0130 - val_acc: 0.9966\n"
     ]
    }
   ],
   "source": [
    "start = datetime.datetime.now()\n",
    "hist1 = model.fit(x1_train, y1_train,\n",
    "         nb_epoch=10,\n",
    "         shuffle=True,\n",
    "         batch_size=100,\n",
    "         validation_data=(x1_val, y1_val), verbose=2)\n",
    "\n",
    "time_taken = datetime.datetime.now() - start"
   ]
  },
  {
   "cell_type": "code",
   "execution_count": null,
   "metadata": {
    "collapsed": false
   },
   "outputs": [],
   "source": []
  }
 ],
 "metadata": {
  "kernelspec": {
   "display_name": "Python 2",
   "language": "python",
   "name": "python2"
  },
  "language_info": {
   "codemirror_mode": {
    "name": "ipython",
    "version": 2
   },
   "file_extension": ".py",
   "mimetype": "text/x-python",
   "name": "python",
   "nbconvert_exporter": "python",
   "pygments_lexer": "ipython2",
   "version": "2.7.12"
  }
 },
 "nbformat": 4,
 "nbformat_minor": 2
}
