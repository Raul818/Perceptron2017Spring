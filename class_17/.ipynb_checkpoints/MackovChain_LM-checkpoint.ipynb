{
 "cells": [
  {
   "cell_type": "code",
   "execution_count": 1,
   "metadata": {
    "collapsed": true
   },
   "outputs": [],
   "source": [
    "import numpy as np"
   ]
  },
  {
   "cell_type": "code",
   "execution_count": 2,
   "metadata": {
    "collapsed": true
   },
   "outputs": [],
   "source": [
    "f = open('./input.txt', 'r')\n",
    "d = str(f.read())\n",
    "f.close()"
   ]
  },
  {
   "cell_type": "code",
   "execution_count": 25,
   "metadata": {
    "collapsed": false
   },
   "outputs": [],
   "source": [
    "d = d.decode('utf-8')"
   ]
  },
  {
   "cell_type": "code",
   "execution_count": 26,
   "metadata": {
    "collapsed": false
   },
   "outputs": [
    {
     "name": "stdout",
     "output_type": "stream",
     "text": [
      "1690964\n"
     ]
    }
   ],
   "source": [
    "print len(d)/2"
   ]
  },
  {
   "cell_type": "code",
   "execution_count": 27,
   "metadata": {
    "collapsed": false
   },
   "outputs": [],
   "source": [
    "data = d.strip().lower()"
   ]
  },
  {
   "cell_type": "code",
   "execution_count": 34,
   "metadata": {
    "collapsed": false
   },
   "outputs": [
    {
     "name": "stdout",
     "output_type": "stream",
     "text": [
      ".....\n",
      ".....\n",
      ".....\n",
      ".....\n",
      ".....\n",
      ".....\n",
      ".....\n",
      ".....\n",
      ".....\n",
      ".....\n"
     ]
    }
   ],
   "source": [
    "# language model\n",
    "order = 3\n",
    "lm = {}\n",
    "n = 100000\n",
    "\n",
    "for ix in range(n):\n",
    "    dt = '*'*order + data\n",
    "    ctx = dt[ix:ix+order]\n",
    "    nxt = dt[ix+order]\n",
    "    \n",
    "    if (float(ix*100)/n)%10 == 0:\n",
    "        print '.....'\n",
    "    \n",
    "    # print ctx, nxt\n",
    "    try:\n",
    "        lm[ctx][nxt] += 1\n",
    "    except:\n",
    "        try:\n",
    "            lm[ctx][nxt] = 1\n",
    "        except:\n",
    "            lm[ctx] = {}\n",
    "            lm[ctx][nxt] = 1"
   ]
  },
  {
   "cell_type": "code",
   "execution_count": 79,
   "metadata": {
    "collapsed": false,
    "scrolled": true
   },
   "outputs": [],
   "source": [
    "for k in lm.keys():\n",
    "    s = 0\n",
    "    for kx in lm[k].keys():\n",
    "        s += lm[k][kx]\n",
    "    for kx in lm[k].keys():\n",
    "        lm[k][kx] /= float(s)\n",
    "    # print lm[k], k"
   ]
  },
  {
   "cell_type": "code",
   "execution_count": 52,
   "metadata": {
    "collapsed": false
   },
   "outputs": [
    {
     "data": {
      "text/plain": [
       "{u' ': 0.2, u\"'\": 0.2, u'k': 0.1, u'l': 0.3, u'y': 0.2}"
      ]
     },
     "execution_count": 52,
     "metadata": {},
     "output_type": "execute_result"
    }
   ],
   "source": [
    "lm['er']"
   ]
  },
  {
   "cell_type": "code",
   "execution_count": 72,
   "metadata": {
    "collapsed": true
   },
   "outputs": [],
   "source": [
    "def generate_chars(ctx, model):\n",
    "    r = np.random.random()\n",
    "    try:\n",
    "        possible = model[ctx]\n",
    "        for k in possible.keys():\n",
    "            if r-possible[k] < 0:\n",
    "                return k\n",
    "        return possible.keys()[int(len(possible.keys())*r)]\n",
    "    except:\n",
    "        return ' '"
   ]
  },
  {
   "cell_type": "code",
   "execution_count": 74,
   "metadata": {
    "collapsed": false
   },
   "outputs": [
    {
     "data": {
      "text/plain": [
       "' '"
      ]
     },
     "execution_count": 74,
     "metadata": {},
     "output_type": "execute_result"
    }
   ],
   "source": [
    "generate_chars('sg', lm)\n"
   ]
  },
  {
   "cell_type": "code",
   "execution_count": 77,
   "metadata": {
    "collapsed": true
   },
   "outputs": [],
   "source": [
    "def sample(start='*', length=500):\n",
    "    text = start*order\n",
    "    for ix in range(length):\n",
    "        text += generate_chars(text[ix:ix+order], lm)\n",
    "    return text"
   ]
  },
  {
   "cell_type": "code",
   "execution_count": 78,
   "metadata": {
    "collapsed": false
   },
   "outputs": [
    {
     "name": "stdout",
     "output_type": "stream",
     "text": [
      "**the specherk\n",
      "  ther's of th the arthe five advents\n",
      "      th thes\n",
      "      thure fache a silvenge adve pips\n",
      "\n",
      "\n",
      "\n",
      "    thery\n",
      "     advents\n",
      "\n",
      "       the fache musg   th therlet\n",
      "\n",
      "    th the adventured bache vallock holmes\n",
      "           the the adventure table the a she face\n",
      "                                                the ented lip\n",
      "   twity\n",
      "           the the ster copperk\n",
      "                                             the pips\n",
      "\n",
      "                                 tabletengin sperleague\n",
      "\n",
      "\n",
      "                  twisted bacher's of twistock holmes\n",
      "\n",
      "\n",
      "                  the yellock holmes\n",
      "            the facherk\n",
      "         the four bace\n",
      "\n",
      "       a sign doyl can of ste scarle\n",
      "    th th the of the yelow face\n",
      "\n",
      "          table noblaze\n",
      "                 twistockleted lips\n",
      "        table pips\n",
      "        arthes\n",
      "         the of tablue stured-herlock holmes\n",
      "                    tableadented ley ided le noblue adventure aded lips\n",
      "\n",
      "    the sign of the nobled-he adventure pips\n",
      "     the a sign of th the foure mes\n",
      "        the ented bl\n"
     ]
    }
   ],
   "source": [
    "print sample(length=1000)"
   ]
  },
  {
   "cell_type": "code",
   "execution_count": 62,
   "metadata": {
    "collapsed": false
   },
   "outputs": [
    {
     "name": "stdout",
     "output_type": "stream",
     "text": [
      "**\n",
      "**1\n"
     ]
    }
   ],
   "source": [
    "a = '**'\n",
    "print a[0:0+2]\n",
    "a += '1'\n",
    "print a"
   ]
  }
 ],
 "metadata": {
  "kernelspec": {
   "display_name": "Python 2",
   "language": "python",
   "name": "python2"
  },
  "language_info": {
   "codemirror_mode": {
    "name": "ipython",
    "version": 2
   },
   "file_extension": ".py",
   "mimetype": "text/x-python",
   "name": "python",
   "nbconvert_exporter": "python",
   "pygments_lexer": "ipython2",
   "version": "2.7.12"
  }
 },
 "nbformat": 4,
 "nbformat_minor": 2
}
