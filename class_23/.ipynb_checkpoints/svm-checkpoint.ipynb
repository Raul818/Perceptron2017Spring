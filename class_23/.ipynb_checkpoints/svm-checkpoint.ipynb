{
 "cells": [
  {
   "cell_type": "code",
   "execution_count": 60,
   "metadata": {
    "collapsed": true
   },
   "outputs": [],
   "source": [
    "import numpy as np\n",
    "import sklearn\n",
    "from sklearn import svm\n",
    "import matplotlib.pyplot as plt\n",
    "%matplotlib inline\n",
    "import pandas as pd\n",
    "import datetime"
   ]
  },
  {
   "cell_type": "code",
   "execution_count": 2,
   "metadata": {
    "collapsed": false
   },
   "outputs": [
    {
     "name": "stdout",
     "output_type": "stream",
     "text": [
      "(42000, 785)\n"
     ]
    }
   ],
   "source": [
    "ds = pd.read_csv('../train.csv')\n",
    "print ds.shape"
   ]
  },
  {
   "cell_type": "code",
   "execution_count": 3,
   "metadata": {
    "collapsed": true
   },
   "outputs": [],
   "source": [
    "data = ds.values"
   ]
  },
  {
   "cell_type": "code",
   "execution_count": 62,
   "metadata": {
    "collapsed": false
   },
   "outputs": [],
   "source": [
    "X = np.zeros((2000, 784))\n",
    "y = np.zeros((X.shape[0]))\n",
    "\n",
    "for ix in range(X.shape[0]):\n",
    "    if data[ix, 0]%2 == 0:\n",
    "        X[ix, :] = data[ix, 1:]\n",
    "        y[ix] = 0\n",
    "    else:\n",
    "        X[ix, :] = data[ix, 1:]\n",
    "        y[ix] = 1"
   ]
  },
  {
   "cell_type": "code",
   "execution_count": 63,
   "metadata": {
    "collapsed": false
   },
   "outputs": [
    {
     "name": "stdout",
     "output_type": "stream",
     "text": [
      "(1600, 784) (400, 784)\n",
      "(1600,) (400,)\n"
     ]
    }
   ],
   "source": [
    "split = int(0.8 * X.shape[0])\n",
    "\n",
    "X_train = X[:split]\n",
    "X_test = X[split:]\n",
    "\n",
    "y_train = y[:split]\n",
    "y_test = y[split:]\n",
    "\n",
    "print X_train.shape, X_test.shape\n",
    "print y_train.shape, y_test.shape"
   ]
  },
  {
   "cell_type": "code",
   "execution_count": 64,
   "metadata": {
    "collapsed": false
   },
   "outputs": [
    {
     "name": "stdout",
     "output_type": "stream",
     "text": [
      "1.0\n",
      "0.775\n",
      "0:00:02.514689\n"
     ]
    }
   ],
   "source": [
    "start = datetime.datetime.now()\n",
    "cf1 = svm.SVC(kernel='linear')\n",
    "\n",
    "cf1.fit(X_train, y_train)\n",
    "\n",
    "print cf1.score(X_train, y_train)\n",
    "print cf1.score(X_test, y_test)\n",
    "print datetime.datetime.now() - start"
   ]
  },
  {
   "cell_type": "code",
   "execution_count": 28,
   "metadata": {
    "collapsed": false
   },
   "outputs": [
    {
     "name": "stdout",
     "output_type": "stream",
     "text": [
      "1.0\n",
      "0.9425\n"
     ]
    }
   ],
   "source": [
    "cf1 = svm.SVC(kernel='poly', random_state=21, degree=3)\n",
    "\n",
    "cf1.fit(X_train, y_train)\n",
    "\n",
    "print cf1.score(X_train, y_train)\n",
    "print cf1.score(X_test, y_test)"
   ]
  },
  {
   "cell_type": "code",
   "execution_count": 31,
   "metadata": {
    "collapsed": false
   },
   "outputs": [
    {
     "name": "stdout",
     "output_type": "stream",
     "text": [
      "1.0\n",
      "0.4975\n"
     ]
    }
   ],
   "source": [
    "cf1 = svm.SVC(kernel='rbf')\n",
    "\n",
    "cf1.fit(X_train, y_train)\n",
    "\n",
    "print cf1.score(X_train, y_train)\n",
    "print cf1.score(X_test, y_test)"
   ]
  },
  {
   "cell_type": "code",
   "execution_count": 70,
   "metadata": {
    "collapsed": true
   },
   "outputs": [],
   "source": [
    "import keras\n",
    "from keras.layers import Input, Dense, Conv2D, Flatten, Activation, MaxPool2D\n",
    "from keras.utils import np_utils\n",
    "from keras.models import Model, Sequential"
   ]
  },
  {
   "cell_type": "code",
   "execution_count": 71,
   "metadata": {
    "collapsed": false
   },
   "outputs": [
    {
     "name": "stdout",
     "output_type": "stream",
     "text": [
      "(1600, 28, 28, 1) (400, 28, 28, 1)\n",
      "(1600, 2) (400, 2)\n"
     ]
    }
   ],
   "source": [
    "X_ = X.reshape((X.shape[0], 28, 28, 1))\n",
    "X_tr = X_[:split]\n",
    "X_te = X_[split:]\n",
    "\n",
    "Y = np_utils.to_categorical(y)\n",
    "Y_train = Y[:split]\n",
    "Y_test = Y[split:]\n",
    "\n",
    "print X_tr.shape, X_te.shape\n",
    "print Y_train.shape, Y_test.shape"
   ]
  },
  {
   "cell_type": "code",
   "execution_count": 72,
   "metadata": {
    "collapsed": false
   },
   "outputs": [
    {
     "name": "stdout",
     "output_type": "stream",
     "text": [
      "_________________________________________________________________\n",
      "Layer (type)                 Output Shape              Param #   \n",
      "=================================================================\n",
      "input_13 (InputLayer)        (None, 28, 28, 1)         0         \n",
      "_________________________________________________________________\n",
      "conv2d_26 (Conv2D)           (None, 26, 26, 32)        320       \n",
      "_________________________________________________________________\n",
      "conv2d_27 (Conv2D)           (None, 24, 24, 16)        4624      \n",
      "_________________________________________________________________\n",
      "max_pooling2d_9 (MaxPooling2 (None, 12, 12, 16)        0         \n",
      "_________________________________________________________________\n",
      "conv2d_28 (Conv2D)           (None, 8, 8, 8)           3208      \n",
      "_________________________________________________________________\n",
      "flatten_6 (Flatten)          (None, 512)               0         \n",
      "_________________________________________________________________\n",
      "dense_11 (Dense)             (None, 64)                32832     \n",
      "_________________________________________________________________\n",
      "dense_12 (Dense)             (None, 2)                 130       \n",
      "=================================================================\n",
      "Total params: 41,114.0\n",
      "Trainable params: 41,114.0\n",
      "Non-trainable params: 0.0\n",
      "_________________________________________________________________\n"
     ]
    }
   ],
   "source": [
    "\n",
    "inp = Input(shape=(28, 28, 1))\n",
    "c1 = Conv2D(32, 3, activation='relu')(inp)\n",
    "c2 = Conv2D(16, 3, activation='relu')(c1)\n",
    "\n",
    "mp1 = MaxPool2D(pool_size=(2, 2))(c2)\n",
    "\n",
    "c3 = Conv2D(8, 5, activation='relu')(mp1)\n",
    "f1 = Flatten()(c3)\n",
    "\n",
    "fc1 = Dense(64, activation='relu')(f1)\n",
    "fc2 = Dense(2, activation='softmax')(fc1)\n",
    "\n",
    "model = Model(input=inp, output=fc2)\n",
    "model.summary()\n",
    "\n",
    "model.compile(optimizer='adam', loss='categorical_crossentropy', metrics=['accuracy'])"
   ]
  },
  {
   "cell_type": "code",
   "execution_count": 73,
   "metadata": {
    "collapsed": true
   },
   "outputs": [],
   "source": [
    "feature_selector = Model(input=inp, output=fc1)"
   ]
  },
  {
   "cell_type": "code",
   "execution_count": 74,
   "metadata": {
    "collapsed": false
   },
   "outputs": [
    {
     "name": "stdout",
     "output_type": "stream",
     "text": [
      "Train on 1600 samples, validate on 400 samples\n",
      "Epoch 1/9\n",
      "1s - loss: 2.2094 - acc: 0.7875 - val_loss: 0.9089 - val_acc: 0.7925\n",
      "Epoch 2/9\n",
      "1s - loss: 0.3030 - acc: 0.8988 - val_loss: 0.3378 - val_acc: 0.8775\n",
      "Epoch 3/9\n",
      "1s - loss: 0.1251 - acc: 0.9569 - val_loss: 0.2376 - val_acc: 0.9250\n",
      "Epoch 4/9\n",
      "1s - loss: 0.0714 - acc: 0.9762 - val_loss: 0.2289 - val_acc: 0.9150\n",
      "Epoch 5/9\n",
      "1s - loss: 0.0315 - acc: 0.9900 - val_loss: 0.2272 - val_acc: 0.9225\n",
      "Epoch 6/9\n",
      "1s - loss: 0.0287 - acc: 0.9888 - val_loss: 0.2726 - val_acc: 0.9250\n",
      "Epoch 7/9\n",
      "1s - loss: 0.0191 - acc: 0.9931 - val_loss: 0.2690 - val_acc: 0.9300\n",
      "Epoch 8/9\n",
      "1s - loss: 0.0081 - acc: 0.9988 - val_loss: 0.2638 - val_acc: 0.9325\n",
      "Epoch 9/9\n",
      "1s - loss: 0.0026 - acc: 1.0000 - val_loss: 0.2576 - val_acc: 0.9250\n"
     ]
    }
   ],
   "source": [
    "hist = model.fit(X_tr, Y_train,\n",
    "         epochs=9,\n",
    "         shuffle=True,\n",
    "         batch_size=32,\n",
    "         verbose=2,\n",
    "         validation_data=(X_te, Y_test))"
   ]
  },
  {
   "cell_type": "code",
   "execution_count": 75,
   "metadata": {
    "collapsed": true
   },
   "outputs": [],
   "source": [
    "data_new = feature_selector.predict(X_)"
   ]
  },
  {
   "cell_type": "code",
   "execution_count": 76,
   "metadata": {
    "collapsed": false
   },
   "outputs": [
    {
     "name": "stdout",
     "output_type": "stream",
     "text": [
      "(2000, 64)\n"
     ]
    }
   ],
   "source": [
    "print data_new.shape"
   ]
  },
  {
   "cell_type": "code",
   "execution_count": 77,
   "metadata": {
    "collapsed": false
   },
   "outputs": [
    {
     "name": "stdout",
     "output_type": "stream",
     "text": [
      "(1600, 64) (400, 64)\n",
      "(1600,) (400,)\n"
     ]
    }
   ],
   "source": [
    "split = int(0.8 * data_new.shape[0])\n",
    "\n",
    "X_train = data_new[:split]\n",
    "X_test = data_new[split:]\n",
    "\n",
    "y_train = y[:split]\n",
    "y_test = y[split:]\n",
    "\n",
    "print X_train.shape, X_test.shape\n",
    "print y_train.shape, y_test.shape"
   ]
  },
  {
   "cell_type": "code",
   "execution_count": 80,
   "metadata": {
    "collapsed": false
   },
   "outputs": [
    {
     "name": "stdout",
     "output_type": "stream",
     "text": [
      "1.0\n",
      "0.725\n",
      "0:00:00.599735\n"
     ]
    }
   ],
   "source": [
    "start = datetime.datetime.now()\n",
    "cf1 = svm.SVC(kernel='rbf')\n",
    "\n",
    "cf1.fit(X_train, y_train)\n",
    "\n",
    "print cf1.score(X_train, y_train)\n",
    "print cf1.score(X_test, y_test)\n",
    "print datetime.datetime.now() - start"
   ]
  },
  {
   "cell_type": "code",
   "execution_count": null,
   "metadata": {
    "collapsed": true
   },
   "outputs": [],
   "source": []
  }
 ],
 "metadata": {
  "kernelspec": {
   "display_name": "Python 2",
   "language": "python",
   "name": "python2"
  },
  "language_info": {
   "codemirror_mode": {
    "name": "ipython",
    "version": 2
   },
   "file_extension": ".py",
   "mimetype": "text/x-python",
   "name": "python",
   "nbconvert_exporter": "python",
   "pygments_lexer": "ipython2",
   "version": "2.7.12"
  }
 },
 "nbformat": 4,
 "nbformat_minor": 2
}
