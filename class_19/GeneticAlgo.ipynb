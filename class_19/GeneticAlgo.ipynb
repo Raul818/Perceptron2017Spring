{
 "cells": [
  {
   "cell_type": "code",
   "execution_count": 18,
   "metadata": {
    "collapsed": true
   },
   "outputs": [],
   "source": [
    "import numpy as np\n",
    "from matplotlib import pyplot as plt\n",
    "%matplotlib inline\n",
    "import random"
   ]
  },
  {
   "cell_type": "code",
   "execution_count": 58,
   "metadata": {
    "collapsed": false
   },
   "outputs": [
    {
     "name": "stdout",
     "output_type": "stream",
     "text": [
      "[ 1.12122412  0.07680973  0.91348858  1.39972923  1.42102642  0.15893997\n",
      "  1.5276436   0.53946919  0.49213628  1.34222709  1.64428751  1.57444844\n",
      "  0.11619402  1.40742398  0.19889319  1.31484911  1.43580119  1.58214973\n",
      "  1.54810138  0.24432012  0.70171645  1.91325343  0.33530957  1.93042258\n",
      "  1.61675694  0.29583991  1.98395538  1.15583894  0.58780085  1.43829972\n",
      "  1.82573674  0.17204463  0.29197245  0.43273421  0.7183644   0.36585133\n",
      "  0.06975926  1.40000837  1.53383905  0.20544723  0.70527773  1.31485385\n",
      "  1.66094814  1.97730693  1.99659596  1.22605036  1.18394655  0.68586827\n",
      "  0.42878094  0.71878989]\n"
     ]
    }
   ],
   "source": [
    "N_POP = 100\n",
    "N_GEN = 50\n",
    "\n",
    "N_DIM = 50\n",
    "\n",
    "MUT = 0.05\n",
    "CROSS = 0.5\n",
    "\n",
    "random_shift = 2*np.random.random((N_DIM))\n",
    "print random_shift"
   ]
  },
  {
   "cell_type": "code",
   "execution_count": 60,
   "metadata": {
    "collapsed": false
   },
   "outputs": [],
   "source": [
    "def loss(x):\n",
    "    n_dim = x.shape[0]\n",
    "    \n",
    "    # Sphere\n",
    "    y = np.sum((random_shift + x)**2)\n",
    "    return y\n",
    "\n",
    "\n",
    "def generate_random_point(n_dim=N_DIM, lim=10):\n",
    "    pt = (2*np.random.random((n_dim,))-1)*lim\n",
    "    return (pt, loss(pt))\n",
    "\n",
    "pop = [generate_random_point() for ix in range(N_POP)]\n",
    "temp = []\n",
    "\n",
    "def crossover(p1, p2):\n",
    "    n_dim = p1.shape[0]\n",
    "    \n",
    "    c1 = np.zeros(p1.shape)\n",
    "    c2 = np.zeros(p2.shape)\n",
    "    \n",
    "    split = int(n_dim * CROSS)\n",
    "    \n",
    "    if split == 0:\n",
    "        c1 = p1\n",
    "        c2 = p2\n",
    "    else:\n",
    "        c1[:split] = p1[:split]\n",
    "        c1[split:] = p2[split:]\n",
    "        \n",
    "        c2[:split] = p2[:split]\n",
    "        c2[split:] = p1[split:]\n",
    "    return c1, c2\n",
    "\n",
    "def mutate(x):\n",
    "    n_dim = x.shape[0]\n",
    "    X = np.zeros(x.shape)\n",
    "    \n",
    "    for ix in range(n_dim):\n",
    "        r = np.random.random()\n",
    "        if r < MUT:\n",
    "            # mutate\n",
    "            X[ix] = x[ix] + (2*np.random.random() - 1)\n",
    "        else:\n",
    "            X[ix] = x[ix]\n",
    "    return X"
   ]
  },
  {
   "cell_type": "code",
   "execution_count": 61,
   "metadata": {
    "collapsed": true
   },
   "outputs": [],
   "source": [
    "losses = []"
   ]
  },
  {
   "cell_type": "code",
   "execution_count": 62,
   "metadata": {
    "collapsed": false,
    "scrolled": false
   },
   "outputs": [
    {
     "name": "stdout",
     "output_type": "stream",
     "text": [
      "1272.15640595\n",
      "1272.15640595\n",
      "1170.1274704\n",
      "1128.73571828\n",
      "1072.97413344\n",
      "1070.22586132\n",
      "1056.72470712\n",
      "1040.51363117\n",
      "1024.76329721\n",
      "1006.34199302\n",
      "992.57332119\n",
      "978.313480133\n",
      "970.641847627\n",
      "958.111031933\n",
      "938.323768127\n",
      "924.904669748\n",
      "916.956663219\n",
      "911.185782613\n",
      "897.724887171\n",
      "880.182983792\n",
      "871.573357229\n",
      "852.045014085\n",
      "839.45629964\n",
      "834.415958821\n",
      "827.852094905\n",
      "807.394053629\n",
      "804.529365195\n",
      "788.350694841\n",
      "780.968828892\n",
      "769.788947912\n",
      "757.740464727\n",
      "744.518880328\n",
      "735.00379323\n",
      "735.00379323\n",
      "713.829397292\n",
      "699.101929763\n",
      "690.70609251\n",
      "683.680943738\n",
      "673.080914012\n",
      "667.164603801\n",
      "654.698846982\n",
      "651.444511955\n",
      "643.391778499\n",
      "627.548151187\n",
      "623.759678944\n",
      "610.441082842\n",
      "606.0119642\n",
      "591.453570718\n",
      "584.520931814\n",
      "576.681808132\n"
     ]
    }
   ],
   "source": [
    "for gen in range(N_GEN):\n",
    "    # sort the population\n",
    "    ord_pop = sorted(pop, key=lambda x: x[1])\n",
    "    best = ord_pop[0]\n",
    "    print best[1]#, best[0]\n",
    "    losses.append(best[1])\n",
    "    \n",
    "    # create temp population\n",
    "    temp = []\n",
    "    \n",
    "    while len(temp) < N_POP:\n",
    "        # select p1 and p2 (parents)\n",
    "        p1, p2 = random.sample(ord_pop[:N_POP/2], 2)\n",
    "        \n",
    "        # apply crossover to generate c1 and c2 (children)\n",
    "        c1, c2 = crossover(p1[0], p2[0])        \n",
    "        \n",
    "        # apply mutation on c1 and c2\n",
    "        c1 = mutate(c1)\n",
    "        c2 = mutate(c2)\n",
    "        \n",
    "        t = [p1, p2, (c1, loss(c1)), (c2, loss(c2))]\n",
    "        t_sorted = sorted(t, key=lambda x: x[1])\n",
    "        # save the best of p1, p2, c1, c2 in temp\n",
    "        \n",
    "        temp += t_sorted[:2]\n",
    "        \n",
    "    # replace population with temp\n",
    "    pop = temp"
   ]
  },
  {
   "cell_type": "code",
   "execution_count": 63,
   "metadata": {
    "collapsed": false
   },
   "outputs": [
    {
     "data": {
      "text/plain": [
       "[<matplotlib.lines.Line2D at 0x7fdece247650>]"
      ]
     },
     "execution_count": 63,
     "metadata": {},
     "output_type": "execute_result"
    },
    {
     "data": {
      "image/png": "[encoded data removed]",
      "text/plain": [
       "<matplotlib.figure.Figure at 0x7fdece3e9710>"
      ]
     },
     "metadata": {},
     "output_type": "display_data"
    }
   ],
   "source": [
    "plt.plot(losses)"
   ]
  },
  {
   "cell_type": "code",
   "execution_count": null,
   "metadata": {
    "collapsed": true
   },
   "outputs": [],
   "source": []
  }
 ],
 "metadata": {
  "kernelspec": {
   "display_name": "Python 2",
   "language": "python",
   "name": "python2"
  },
  "language_info": {
   "codemirror_mode": {
    "name": "ipython",
    "version": 2
   },
   "file_extension": ".py",
   "mimetype": "text/x-python",
   "name": "python",
   "nbconvert_exporter": "python",
   "pygments_lexer": "ipython2",
   "version": "2.7.12"
  }
 },
 "nbformat": 4,
 "nbformat_minor": 2
}
