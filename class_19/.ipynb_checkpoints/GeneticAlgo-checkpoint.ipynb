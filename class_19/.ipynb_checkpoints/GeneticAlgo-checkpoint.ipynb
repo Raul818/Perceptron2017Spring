{
 "cells": [
  {
   "cell_type": "code",
   "execution_count": 2,
   "metadata": {
    "collapsed": true
   },
   "outputs": [],
   "source": [
    "import numpy as np\n",
    "from matplotlib import pyplot as plt\n",
    "%matplotlib inline\n",
    "import random"
   ]
  },
  {
   "cell_type": "code",
   "execution_count": 3,
   "metadata": {
    "collapsed": false
   },
   "outputs": [
    {
     "name": "stdout",
     "output_type": "stream",
     "text": [
      "[ 0.17259725  0.9901605   1.40479023  0.57168203  1.00582274  0.24535083\n",
      "  0.93976305  1.82623926  0.86219471  0.34885689  1.5135245   0.57898759\n",
      "  1.82691556  0.08030358  0.44759982  0.86060237  0.13561777  0.98102143\n",
      "  1.15049745  0.67879887  0.25888049  1.91217147  1.51100746  1.36880012\n",
      "  0.78759057  1.5161371   1.93893537  0.40213288  1.92542477  1.84358738\n",
      "  0.64676934  1.38586965  1.42009488  0.67691884  1.62623833  0.85531735\n",
      "  0.24089423  1.75327869  0.3103015   1.68050432  0.5993795   0.61156094\n",
      "  0.89756934  1.61891842  0.5743545   1.18276564  1.76870254  1.0035871\n",
      "  1.8776051   1.71511012  1.83084204  1.38238879  1.56761245  1.36510378\n",
      "  1.82871737  0.330186    0.93852888  0.73202608  1.02028402  1.47401279\n",
      "  0.8443909   0.83988541  0.52744024  0.74029076  1.36194203  0.17929241\n",
      "  0.11077466  0.18083429  0.31961592  1.1548268   1.63289128  0.1240315\n",
      "  1.29022613  0.30476033  1.78438847  1.24487197  0.54041516  0.47536482\n",
      "  1.38404301  0.30427517  0.03787978  1.96529149  0.67368948  1.87898531\n",
      "  1.00244392  0.05785993  0.32753774  1.12981646  0.50624622  0.64809522\n",
      "  1.13180301  1.27533379  1.76336071  1.33279432  1.75892494  0.51121955\n",
      "  0.87947879  0.82669008  1.7323843   0.41917751]\n"
     ]
    }
   ],
   "source": [
    "N_POP = 200\n",
    "N_GEN = 100\n",
    "\n",
    "N_DIM = 100\n",
    "\n",
    "MUT = 0.05\n",
    "CROSS = 0.5\n",
    "\n",
    "random_shift = 2*np.random.random((N_DIM))\n",
    "print random_shift"
   ]
  },
  {
   "cell_type": "code",
   "execution_count": 8,
   "metadata": {
    "collapsed": false
   },
   "outputs": [],
   "source": [
    "def loss(x):\n",
    "    n_dim = x.shape[0]\n",
    "    \n",
    "    # Sphere\n",
    "    y = np.sum((random_shift + x)**2)\n",
    "    return y\n",
    "\n",
    "\n",
    "def generate_random_point(n_dim=N_DIM, lim=20):\n",
    "    pt = (2*np.random.random((n_dim,))-1)*lim\n",
    "    return (pt, loss(pt))\n",
    "\n",
    "pop = [generate_random_point() for ix in range(N_POP)]\n",
    "temp = []\n",
    "\n",
    "def crossover(p1, p2):\n",
    "    n_dim = p1.shape[0]\n",
    "    \n",
    "    c1 = np.zeros(p1.shape)\n",
    "    c2 = np.zeros(p2.shape)\n",
    "    \n",
    "    split = int(n_dim * CROSS)\n",
    "    \n",
    "    if split == 0:\n",
    "        c1 = p1\n",
    "        c2 = p2\n",
    "    else:\n",
    "        c1[:split] = p1[:split]\n",
    "        c1[split:] = p2[split:]\n",
    "        \n",
    "        c2[:split] = p2[:split]\n",
    "        c2[split:] = p1[split:]\n",
    "    return c1, c2\n",
    "\n",
    "def mutate(x):\n",
    "    n_dim = x.shape[0]\n",
    "    X = np.zeros(x.shape)\n",
    "    \n",
    "    for ix in range(n_dim):\n",
    "        r = np.random.random()\n",
    "        if r < MUT:\n",
    "            # mutate\n",
    "            X[ix] = x[ix] + (2*np.random.random() - 1)\n",
    "        else:\n",
    "            X[ix] = x[ix]\n",
    "    return X"
   ]
  },
  {
   "cell_type": "code",
   "execution_count": 9,
   "metadata": {
    "collapsed": true
   },
   "outputs": [],
   "source": [
    "losses = []"
   ]
  },
  {
   "cell_type": "code",
   "execution_count": 10,
   "metadata": {
    "collapsed": false,
    "scrolled": false
   },
   "outputs": [
    {
     "name": "stdout",
     "output_type": "stream",
     "text": [
      "2805.73779138\n",
      "2558.02541682\n",
      "2495.90333588\n",
      "2380.70855645\n",
      "2352.54840204\n",
      "2332.93353801\n",
      "2330.44387543\n",
      "2305.96955904\n",
      "2292.2278052\n",
      "2281.86277481\n",
      "2248.61280141\n",
      "2231.46128144\n",
      "2197.9880119\n",
      "2161.10090697\n",
      "2160.7020994\n",
      "2156.62427832\n",
      "2138.50212326\n",
      "2103.81026827\n",
      "2103.81026827\n",
      "2079.10753749\n",
      "2058.45728436\n",
      "2030.92287942\n",
      "2022.13158686\n",
      "2002.3186875\n",
      "1973.44509407\n",
      "1965.9880961\n",
      "1954.14307613\n",
      "1936.14985905\n",
      "1926.41246705\n",
      "1902.72462423\n",
      "1896.08386915\n",
      "1871.38491232\n",
      "1853.66695711\n",
      "1831.96979011\n",
      "1809.66072374\n",
      "1787.02719597\n",
      "1777.73712881\n",
      "1769.83824546\n",
      "1745.63970259\n",
      "1722.02336258\n",
      "1722.02336258\n",
      "1710.92891303\n",
      "1681.54742058\n",
      "1682.18698404\n",
      "1651.84521829\n",
      "1620.16280165\n",
      "1616.89809533\n",
      "1589.93494841\n",
      "1564.91165062\n",
      "1553.35750942\n",
      "1541.66314943\n",
      "1519.23356173\n",
      "1500.08859265\n",
      "1481.05678135\n",
      "1479.43210986\n",
      "1439.81901174\n",
      "1433.62406979\n",
      "1430.22227167\n",
      "1415.19841552\n",
      "1390.79223177\n",
      "1374.02400808\n",
      "1373.7022632\n",
      "1356.93598435\n",
      "1350.93608574\n",
      "1327.43621505\n",
      "1319.37907862\n",
      "1299.71508212\n",
      "1290.81779294\n",
      "1276.54475533\n",
      "1269.53314811\n",
      "1237.14993765\n",
      "1227.12693343\n",
      "1220.67913758\n",
      "1205.59913743\n",
      "1196.78293424\n",
      "1174.6849204\n",
      "1165.23620434\n",
      "1142.84028034\n",
      "1141.95512555\n",
      "1116.99227108\n",
      "1108.87128354\n",
      "1106.23463267\n",
      "1101.50035031\n",
      "1083.44698844\n",
      "1065.18576488\n",
      "1059.55793444\n",
      "1045.25141815\n",
      "1027.93116604\n",
      "1018.71479043\n",
      "1010.37201536\n",
      "997.647142863\n",
      "984.448036811\n",
      "969.894480186\n",
      "956.876027905\n",
      "943.262967974\n",
      "932.636876061\n",
      "910.768893506\n",
      "908.590982668\n",
      "882.132260431\n",
      "869.981391903\n"
     ]
    }
   ],
   "source": [
    "for gen in range(N_GEN):\n",
    "    # sort the population\n",
    "    ord_pop = sorted(pop, key=lambda x: x[1])\n",
    "    best = ord_pop[0]\n",
    "    print best[1]#, best[0]\n",
    "    losses.append(best[1])\n",
    "    \n",
    "    # create temp population\n",
    "    temp = []\n",
    "    \n",
    "    while len(temp) < N_POP:\n",
    "        # select p1 and p2 (parents)\n",
    "        p1, p2 = random.sample(ord_pop[:N_POP/2], 2)\n",
    "        \n",
    "        # apply crossover to generate c1 and c2 (children)\n",
    "        c1, c2 = crossover(p1[0], p2[0])        \n",
    "        \n",
    "        # apply mutation on c1 and c2\n",
    "        c1 = mutate(c1)\n",
    "        c2 = mutate(c2)\n",
    "        \n",
    "        t = [p1, p2, (c1, loss(c1)), (c2, loss(c2))]\n",
    "        t_sorted = sorted(t, key=lambda x: x[1])\n",
    "        # save the best of p1, p2, c1, c2 in temp\n",
    "        \n",
    "        temp += t_sorted[:2]\n",
    "        \n",
    "    # replace population with temp\n",
    "    pop = temp"
   ]
  },
  {
   "cell_type": "code",
   "execution_count": 7,
   "metadata": {
    "collapsed": false
   },
   "outputs": [
    {
     "data": {
      "text/plain": [
       "[<matplotlib.lines.Line2D at 0x7f1ab4a17bd0>]"
      ]
     },
     "execution_count": 7,
     "metadata": {},
     "output_type": "execute_result"
    },
    {
     "data": {
      "image/png": "[encoded data removed]",
      "text/plain": [
       "<matplotlib.figure.Figure at 0x7f1ab6d3bb50>"
      ]
     },
     "metadata": {},
     "output_type": "display_data"
    }
   ],
   "source": [
    "plt.plot(losses)"
   ]
  },
  {
   "cell_type": "code",
   "execution_count": null,
   "metadata": {
    "collapsed": true
   },
   "outputs": [],
   "source": []
  }
 ],
 "metadata": {
  "kernelspec": {
   "display_name": "Python 2",
   "language": "python",
   "name": "python2"
  },
  "language_info": {
   "codemirror_mode": {
    "name": "ipython",
    "version": 2
   },
   "file_extension": ".py",
   "mimetype": "text/x-python",
   "name": "python",
   "nbconvert_exporter": "python",
   "pygments_lexer": "ipython2",
   "version": "2.7.12"
  }
 },
 "nbformat": 4,
 "nbformat_minor": 2
}
