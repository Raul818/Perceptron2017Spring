{
 "cells": [
  {
   "cell_type": "code",
   "execution_count": 1,
   "metadata": {
    "collapsed": false
   },
   "outputs": [
    {
     "name": "stderr",
     "output_type": "stream",
     "text": [
      "Using TensorFlow backend.\n"
     ]
    }
   ],
   "source": [
    "import numpy as np\n",
    "from matplotlib import pyplot as plt\n",
    "%matplotlib inline\n",
    "import pandas as pd\n",
    "\n",
    "import keras\n",
    "from keras.layers import Dense, Activation, Convolution2D, Reshape, Flatten, ZeroPadding2D\n",
    "from keras.layers import MaxPooling2D, UpSampling2D, Input, Dropout\n",
    "from keras.models import Sequential, Model"
   ]
  },
  {
   "cell_type": "code",
   "execution_count": 79,
   "metadata": {
    "collapsed": true
   },
   "outputs": [],
   "source": [
    "ds = pd.read_csv('../train.csv')\n",
    "data = ds.values[:1000]"
   ]
  },
  {
   "cell_type": "code",
   "execution_count": 77,
   "metadata": {
    "collapsed": false
   },
   "outputs": [
    {
     "name": "stdout",
     "output_type": "stream",
     "text": [
      "(10000, 785)\n"
     ]
    }
   ],
   "source": [
    "print data.shape\n",
    "X = data[:, 1:]\n",
    "X = X.reshape((X.shape[0], 28, 28, 1))"
   ]
  },
  {
   "cell_type": "code",
   "execution_count": 78,
   "metadata": {
    "collapsed": false
   },
   "outputs": [
    {
     "name": "stdout",
     "output_type": "stream",
     "text": [
      "1.98197653061 15 0\n"
     ]
    },
    {
     "ename": "MemoryError",
     "evalue": "",
     "output_type": "error",
     "traceback": [
      "\u001b[0;31m---------------------------------------------------------------------------\u001b[0m",
      "\u001b[0;31mMemoryError\u001b[0m                               Traceback (most recent call last)",
      "\u001b[0;32m<ipython-input-78-032f28ed9de4>\u001b[0m in \u001b[0;36m<module>\u001b[0;34m()\u001b[0m\n\u001b[1;32m      6\u001b[0m \u001b[0;32mprint\u001b[0m \u001b[0mX_\u001b[0m\u001b[0;34m.\u001b[0m\u001b[0mmean\u001b[0m\u001b[0;34m(\u001b[0m\u001b[0;34m)\u001b[0m\u001b[0;34m,\u001b[0m \u001b[0mX_\u001b[0m\u001b[0;34m.\u001b[0m\u001b[0mmax\u001b[0m\u001b[0;34m(\u001b[0m\u001b[0;34m)\u001b[0m\u001b[0;34m,\u001b[0m \u001b[0mX_\u001b[0m\u001b[0;34m.\u001b[0m\u001b[0mmin\u001b[0m\u001b[0;34m(\u001b[0m\u001b[0;34m)\u001b[0m\u001b[0;34m\u001b[0m\u001b[0m\n\u001b[1;32m      7\u001b[0m \u001b[0;34m\u001b[0m\u001b[0m\n\u001b[0;32m----> 8\u001b[0;31m \u001b[0mX_new\u001b[0m \u001b[0;34m=\u001b[0m \u001b[0mnp\u001b[0m\u001b[0;34m.\u001b[0m\u001b[0mzeros\u001b[0m\u001b[0;34m(\u001b[0m\u001b[0;34m(\u001b[0m\u001b[0mX_\u001b[0m\u001b[0;34m.\u001b[0m\u001b[0mshape\u001b[0m\u001b[0;34m[\u001b[0m\u001b[0;36m0\u001b[0m\u001b[0;34m]\u001b[0m\u001b[0;34m,\u001b[0m \u001b[0;36m28\u001b[0m\u001b[0;34m,\u001b[0m \u001b[0;36m28\u001b[0m\u001b[0;34m,\u001b[0m \u001b[0;36m256\u001b[0m\u001b[0;34m)\u001b[0m\u001b[0;34m)\u001b[0m\u001b[0;34m\u001b[0m\u001b[0m\n\u001b[0m\u001b[1;32m      9\u001b[0m \u001b[0;34m\u001b[0m\u001b[0m\n\u001b[1;32m     10\u001b[0m \u001b[0;32mfor\u001b[0m \u001b[0mix\u001b[0m \u001b[0;32min\u001b[0m \u001b[0mrange\u001b[0m\u001b[0;34m(\u001b[0m\u001b[0mX_new\u001b[0m\u001b[0;34m.\u001b[0m\u001b[0mshape\u001b[0m\u001b[0;34m[\u001b[0m\u001b[0;36m0\u001b[0m\u001b[0;34m]\u001b[0m\u001b[0;34m)\u001b[0m\u001b[0;34m:\u001b[0m\u001b[0;34m\u001b[0m\u001b[0m\n",
      "\u001b[0;31mMemoryError\u001b[0m: "
     ]
    }
   ],
   "source": [
    "def convert_color(col):\n",
    "    # convert from 0-255 to 0-15\n",
    "    return col/16\n",
    "\n",
    "X_ = X/16\n",
    "print X_.mean(), X_.max(), X_.min()\n",
    "\n",
    "X_new = np.zeros((X_.shape[0], 28, 28, 256))\n",
    "\n",
    "for ix in range(X_new.shape[0]):\n",
    "    for ir in range(28):\n",
    "        for ic in range(28):\n",
    "            col = X[ix, ir, ic]\n",
    "            X_new[ix, ir, ic, col] = 1\n",
    "print X_new.shape"
   ]
  },
  {
   "cell_type": "code",
   "execution_count": 26,
   "metadata": {
    "collapsed": false
   },
   "outputs": [],
   "source": [
    "X = X_new"
   ]
  },
  {
   "cell_type": "code",
   "execution_count": 27,
   "metadata": {
    "collapsed": false
   },
   "outputs": [
    {
     "name": "stdout",
     "output_type": "stream",
     "text": [
      "(6500, 28, 28, 16) (3500, 28, 28, 16)\n"
     ]
    }
   ],
   "source": [
    "split = int(0.65 * X.shape[0])\n",
    "X_train = X[:split]\n",
    "X_val = X[split:]\n",
    "\n",
    "print X_train.shape, X_val.shape"
   ]
  },
  {
   "cell_type": "code",
   "execution_count": null,
   "metadata": {
    "collapsed": true
   },
   "outputs": [],
   "source": []
  },
  {
   "cell_type": "code",
   "execution_count": 62,
   "metadata": {
    "collapsed": false
   },
   "outputs": [
    {
     "name": "stdout",
     "output_type": "stream",
     "text": [
      "____________________________________________________________________________________________________\n",
      "Layer (type)                     Output Shape          Param #     Connected to                     \n",
      "====================================================================================================\n",
      "input_6 (InputLayer)             (None, 28, 28, 16)    0                                            \n",
      "____________________________________________________________________________________________________\n",
      "convolution2d_25 (Convolution2D) (None, 26, 26, 64)    9280        input_6[0][0]                    \n",
      "____________________________________________________________________________________________________\n",
      "convolution2d_26 (Convolution2D) (None, 24, 24, 32)    18464       convolution2d_25[0][0]           \n",
      "____________________________________________________________________________________________________\n",
      "maxpooling2d_5 (MaxPooling2D)    (None, 12, 12, 32)    0           convolution2d_26[0][0]           \n",
      "____________________________________________________________________________________________________\n",
      "convolution2d_27 (Convolution2D) (None, 10, 10, 8)     2312        maxpooling2d_5[0][0]             \n",
      "____________________________________________________________________________________________________\n",
      "flatten_5 (Flatten)              (None, 800)           0           convolution2d_27[0][0]           \n",
      "____________________________________________________________________________________________________\n",
      "dropout_5 (Dropout)              (None, 800)           0           flatten_5[0][0]                  \n",
      "____________________________________________________________________________________________________\n",
      "dense_9 (Dense)                  (None, 32)            25632       dropout_5[0][0]                  \n",
      "____________________________________________________________________________________________________\n",
      "dense_10 (Dense)                 (None, 800)           26400       dense_9[0][0]                    \n",
      "____________________________________________________________________________________________________\n",
      "reshape_5 (Reshape)              (None, 10, 10, 8)     0           dense_10[0][0]                   \n",
      "____________________________________________________________________________________________________\n",
      "zeropadding2d_13 (ZeroPadding2D) (None, 12, 12, 8)     0           reshape_5[0][0]                  \n",
      "____________________________________________________________________________________________________\n",
      "convolution2d_28 (Convolution2D) (None, 12, 12, 32)    2336        zeropadding2d_13[0][0]           \n",
      "____________________________________________________________________________________________________\n",
      "upsampling2d_5 (UpSampling2D)    (None, 24, 24, 32)    0           convolution2d_28[0][0]           \n",
      "____________________________________________________________________________________________________\n",
      "zeropadding2d_14 (ZeroPadding2D) (None, 26, 26, 32)    0           upsampling2d_5[0][0]             \n",
      "____________________________________________________________________________________________________\n",
      "convolution2d_29 (Convolution2D) (None, 26, 26, 64)    18496       zeropadding2d_14[0][0]           \n",
      "____________________________________________________________________________________________________\n",
      "zeropadding2d_15 (ZeroPadding2D) (None, 28, 28, 64)    0           convolution2d_29[0][0]           \n",
      "____________________________________________________________________________________________________\n",
      "convolution2d_30 (Convolution2D) (None, 28, 28, 16)    9232        zeropadding2d_15[0][0]           \n",
      "====================================================================================================\n",
      "Total params: 112,152\n",
      "Trainable params: 112,152\n",
      "Non-trainable params: 0\n",
      "____________________________________________________________________________________________________\n"
     ]
    }
   ],
   "source": [
    "# Autoencoder\n",
    "embedding_shape = 32\n",
    "\n",
    "inp = Input(shape=(28, 28, 16))\n",
    "\n",
    "#--------- Encoder ------------------#\n",
    "c1 = Convolution2D(64, 3, 3, activation='relu')(inp)\n",
    "c2 = Convolution2D(32, 3, 3, activation='relu')(c1)\n",
    "m1 = MaxPooling2D(pool_size=(2, 2))(c2)\n",
    "c3 = Convolution2D(8, 3, 3, activation='relu')(m1)\n",
    "\n",
    "#---------- Embedding ----------------#\n",
    "f1 = Flatten()(c3)\n",
    "f1 = Dropout(0.4)(f1)\n",
    "\n",
    "fc1 = Dense(embedding_shape, activation='sigmoid')(f1)\n",
    "fc2 = Dense(800, activation='relu')(fc1)\n",
    "\n",
    "rs = Reshape((10, 10, 8))(fc2)\n",
    "\n",
    "#--------- Decoder -------------------#\n",
    "zp1 = ZeroPadding2D(padding=(1, 1))(rs)\n",
    "dc1 = Convolution2D(32, 3, 3, border_mode='same', activation='relu')(zp1)\n",
    "up1 = UpSampling2D(size=(2, 2))(dc1)\n",
    "\n",
    "zp2 = ZeroPadding2D(padding=(1, 1))(up1)\n",
    "dc2 = Convolution2D(64, 3, 3, border_mode='same', activation='relu')(zp2)\n",
    "\n",
    "zp3 = ZeroPadding2D(padding=(1, 1))(dc2)\n",
    "dc3 = Convolution2D(16, 3, 3, border_mode='same', activation='sigmoid')(zp3)\n",
    "\n",
    "out = dc3\n",
    "\n",
    "model = Model(input=inp, output=out)\n",
    "model.summary()\n",
    "encoder = Model(input=inp, output=fc1)\n",
    "model.compile(loss='mse', optimizer='adam', metrics=['accuracy'])"
   ]
  },
  {
   "cell_type": "code",
   "execution_count": 68,
   "metadata": {
    "collapsed": false,
    "scrolled": false
   },
   "outputs": [],
   "source": [
    "dec_in = Input(shape=(embedding_shape,))\n",
    "\n",
    "x = model.layers[8](dec_in)\n",
    "\n",
    "for ix in range(9, len(model.layers)):\n",
    "    x = model.layers[ix](x)\n",
    "\n",
    "decoder = Model(input=dec_in, output=x)\n",
    "# decoder.summary()"
   ]
  },
  {
   "cell_type": "code",
   "execution_count": 69,
   "metadata": {
    "collapsed": false,
    "scrolled": false
   },
   "outputs": [
    {
     "name": "stdout",
     "output_type": "stream",
     "text": [
      "Train on 6500 samples, validate on 3500 samples\n",
      "Epoch 1/20\n",
      "6s - loss: 0.0690 - acc: 0.7747 - val_loss: 0.0236 - val_acc: 0.8182\n",
      "Epoch 2/20\n",
      "5s - loss: 0.0231 - acc: 0.8190 - val_loss: 0.0229 - val_acc: 0.8182\n",
      "Epoch 3/20\n",
      "5s - loss: 0.0227 - acc: 0.8190 - val_loss: 0.0228 - val_acc: 0.8182\n",
      "Epoch 4/20\n",
      "4s - loss: 0.0227 - acc: 0.8190 - val_loss: 0.0227 - val_acc: 0.8182\n",
      "Epoch 5/20\n",
      "5s - loss: 0.0226 - acc: 0.8190 - val_loss: 0.0227 - val_acc: 0.8182\n",
      "Epoch 6/20\n",
      "4s - loss: 0.0226 - acc: 0.8190 - val_loss: 0.0227 - val_acc: 0.8182\n",
      "Epoch 7/20\n",
      "4s - loss: 0.0226 - acc: 0.8190 - val_loss: 0.0227 - val_acc: 0.8182\n",
      "Epoch 8/20\n",
      "4s - loss: 0.0226 - acc: 0.8190 - val_loss: 0.0227 - val_acc: 0.8182\n",
      "Epoch 9/20\n",
      "5s - loss: 0.0226 - acc: 0.8190 - val_loss: 0.0227 - val_acc: 0.8182\n",
      "Epoch 10/20\n",
      "4s - loss: 0.0226 - acc: 0.8190 - val_loss: 0.0227 - val_acc: 0.8182\n",
      "Epoch 11/20\n",
      "4s - loss: 0.0226 - acc: 0.8190 - val_loss: 0.0227 - val_acc: 0.8182\n",
      "Epoch 12/20\n",
      "5s - loss: 0.0226 - acc: 0.8190 - val_loss: 0.0227 - val_acc: 0.8182\n",
      "Epoch 13/20\n",
      "4s - loss: 0.0226 - acc: 0.8190 - val_loss: 0.0227 - val_acc: 0.8182\n",
      "Epoch 14/20\n",
      "5s - loss: 0.0226 - acc: 0.8190 - val_loss: 0.0227 - val_acc: 0.8182\n",
      "Epoch 15/20\n",
      "4s - loss: 0.0226 - acc: 0.8190 - val_loss: 0.0227 - val_acc: 0.8182\n",
      "Epoch 16/20\n",
      "4s - loss: 0.0226 - acc: 0.8190 - val_loss: 0.0227 - val_acc: 0.8182\n",
      "Epoch 17/20\n",
      "4s - loss: 0.0226 - acc: 0.8190 - val_loss: 0.0227 - val_acc: 0.8182\n",
      "Epoch 18/20\n",
      "5s - loss: 0.0226 - acc: 0.8190 - val_loss: 0.0227 - val_acc: 0.8182\n",
      "Epoch 19/20\n",
      "4s - loss: 0.0226 - acc: 0.8190 - val_loss: 0.0227 - val_acc: 0.8182\n",
      "Epoch 20/20\n",
      "4s - loss: 0.0226 - acc: 0.8190 - val_loss: 0.0227 - val_acc: 0.8182\n"
     ]
    }
   ],
   "source": [
    "hist = model.fit(X_train, X_train,\n",
    "                nb_epoch=20,\n",
    "                shuffle=True,\n",
    "                batch_size=100,\n",
    "                validation_data=(X_val, X_val), verbose=2)"
   ]
  },
  {
   "cell_type": "code",
   "execution_count": 70,
   "metadata": {
    "collapsed": false
   },
   "outputs": [
    {
     "data": {
      "text/plain": [
       "[<matplotlib.lines.Line2D at 0x7efc79e6a810>]"
      ]
     },
     "execution_count": 70,
     "metadata": {},
     "output_type": "execute_result"
    },
    {
     "data": {
      "image/png": "[encoded data removed]",
      "text/plain": [
       "<matplotlib.figure.Figure at 0x7efc79f19e50>"
      ]
     },
     "metadata": {},
     "output_type": "display_data"
    },
    {
     "data": {
      "image/png": "[encoded data removed]",
      "text/plain": [
       "<matplotlib.figure.Figure at 0x7efc79edfa10>"
      ]
     },
     "metadata": {},
     "output_type": "display_data"
    }
   ],
   "source": [
    "th = hist.history\n",
    "\n",
    "plt.figure(0)\n",
    "plt.plot(th['loss'], 'b')\n",
    "plt.plot(th['val_loss'], 'g')\n",
    "\n",
    "plt.figure(1)\n",
    "plt.plot(th['acc'], 'b')\n",
    "plt.plot(th['val_acc'], 'g')"
   ]
  },
  {
   "cell_type": "code",
   "execution_count": 71,
   "metadata": {
    "collapsed": false
   },
   "outputs": [
    {
     "name": "stdout",
     "output_type": "stream",
     "text": [
      "(1000, 32)\n"
     ]
    }
   ],
   "source": [
    "emb = encoder.predict(X_train[:1000])\n",
    "print emb.shape"
   ]
  },
  {
   "cell_type": "code",
   "execution_count": 36,
   "metadata": {
    "collapsed": false
   },
   "outputs": [
    {
     "name": "stdout",
     "output_type": "stream",
     "text": [
      "(10, 32)\n"
     ]
    }
   ],
   "source": [
    "new_emb = np.random.sample((10, embedding_shape))\n",
    "print new_emb.shape"
   ]
  },
  {
   "cell_type": "code",
   "execution_count": 55,
   "metadata": {
    "collapsed": false
   },
   "outputs": [],
   "source": [
    "def convert_back(col):\n",
    "    return 8*(2*col + 1)"
   ]
  },
  {
   "cell_type": "code",
   "execution_count": 72,
   "metadata": {
    "collapsed": false
   },
   "outputs": [
    {
     "name": "stdout",
     "output_type": "stream",
     "text": [
      "(1000, 28, 28, 16)\n"
     ]
    }
   ],
   "source": [
    "out = decoder.predict(emb)\n",
    "print out.shape"
   ]
  },
  {
   "cell_type": "code",
   "execution_count": 73,
   "metadata": {
    "collapsed": false
   },
   "outputs": [
    {
     "name": "stdout",
     "output_type": "stream",
     "text": [
      "8.0\n"
     ]
    }
   ],
   "source": [
    "ot = np.zeros((out.shape[0], 28, 28, 1))\n",
    "\n",
    "for ix in range(out.shape[0]):\n",
    "    for ir in range(28):\n",
    "        for ic in range(28):\n",
    "            col = out[ix, ir, ic].argmax()\n",
    "            ot[ix, ir, ic] = convert_back(col)\n",
    "print ot.mean()"
   ]
  },
  {
   "cell_type": "code",
   "execution_count": 74,
   "metadata": {
    "collapsed": false
   },
   "outputs": [
    {
     "name": "stdout",
     "output_type": "stream",
     "text": [
      "[[ 8.  8.  8.  8.  8.  8.  8.  8.  8.  8.  8.  8.  8.  8.  8.  8.  8.  8.\n",
      "   8.  8.  8.  8.  8.  8.  8.  8.  8.  8.]\n",
      " [ 8.  8.  8.  8.  8.  8.  8.  8.  8.  8.  8.  8.  8.  8.  8.  8.  8.  8.\n",
      "   8.  8.  8.  8.  8.  8.  8.  8.  8.  8.]\n",
      " [ 8.  8.  8.  8.  8.  8.  8.  8.  8.  8.  8.  8.  8.  8.  8.  8.  8.  8.\n",
      "   8.  8.  8.  8.  8.  8.  8.  8.  8.  8.]\n",
      " [ 8.  8.  8.  8.  8.  8.  8.  8.  8.  8.  8.  8.  8.  8.  8.  8.  8.  8.\n",
      "   8.  8.  8.  8.  8.  8.  8.  8.  8.  8.]\n",
      " [ 8.  8.  8.  8.  8.  8.  8.  8.  8.  8.  8.  8.  8.  8.  8.  8.  8.  8.\n",
      "   8.  8.  8.  8.  8.  8.  8.  8.  8.  8.]\n",
      " [ 8.  8.  8.  8.  8.  8.  8.  8.  8.  8.  8.  8.  8.  8.  8.  8.  8.  8.\n",
      "   8.  8.  8.  8.  8.  8.  8.  8.  8.  8.]\n",
      " [ 8.  8.  8.  8.  8.  8.  8.  8.  8.  8.  8.  8.  8.  8.  8.  8.  8.  8.\n",
      "   8.  8.  8.  8.  8.  8.  8.  8.  8.  8.]\n",
      " [ 8.  8.  8.  8.  8.  8.  8.  8.  8.  8.  8.  8.  8.  8.  8.  8.  8.  8.\n",
      "   8.  8.  8.  8.  8.  8.  8.  8.  8.  8.]\n",
      " [ 8.  8.  8.  8.  8.  8.  8.  8.  8.  8.  8.  8.  8.  8.  8.  8.  8.  8.\n",
      "   8.  8.  8.  8.  8.  8.  8.  8.  8.  8.]\n",
      " [ 8.  8.  8.  8.  8.  8.  8.  8.  8.  8.  8.  8.  8.  8.  8.  8.  8.  8.\n",
      "   8.  8.  8.  8.  8.  8.  8.  8.  8.  8.]\n",
      " [ 8.  8.  8.  8.  8.  8.  8.  8.  8.  8.  8.  8.  8.  8.  8.  8.  8.  8.\n",
      "   8.  8.  8.  8.  8.  8.  8.  8.  8.  8.]\n",
      " [ 8.  8.  8.  8.  8.  8.  8.  8.  8.  8.  8.  8.  8.  8.  8.  8.  8.  8.\n",
      "   8.  8.  8.  8.  8.  8.  8.  8.  8.  8.]\n",
      " [ 8.  8.  8.  8.  8.  8.  8.  8.  8.  8.  8.  8.  8.  8.  8.  8.  8.  8.\n",
      "   8.  8.  8.  8.  8.  8.  8.  8.  8.  8.]\n",
      " [ 8.  8.  8.  8.  8.  8.  8.  8.  8.  8.  8.  8.  8.  8.  8.  8.  8.  8.\n",
      "   8.  8.  8.  8.  8.  8.  8.  8.  8.  8.]\n",
      " [ 8.  8.  8.  8.  8.  8.  8.  8.  8.  8.  8.  8.  8.  8.  8.  8.  8.  8.\n",
      "   8.  8.  8.  8.  8.  8.  8.  8.  8.  8.]\n",
      " [ 8.  8.  8.  8.  8.  8.  8.  8.  8.  8.  8.  8.  8.  8.  8.  8.  8.  8.\n",
      "   8.  8.  8.  8.  8.  8.  8.  8.  8.  8.]\n",
      " [ 8.  8.  8.  8.  8.  8.  8.  8.  8.  8.  8.  8.  8.  8.  8.  8.  8.  8.\n",
      "   8.  8.  8.  8.  8.  8.  8.  8.  8.  8.]\n",
      " [ 8.  8.  8.  8.  8.  8.  8.  8.  8.  8.  8.  8.  8.  8.  8.  8.  8.  8.\n",
      "   8.  8.  8.  8.  8.  8.  8.  8.  8.  8.]\n",
      " [ 8.  8.  8.  8.  8.  8.  8.  8.  8.  8.  8.  8.  8.  8.  8.  8.  8.  8.\n",
      "   8.  8.  8.  8.  8.  8.  8.  8.  8.  8.]\n",
      " [ 8.  8.  8.  8.  8.  8.  8.  8.  8.  8.  8.  8.  8.  8.  8.  8.  8.  8.\n",
      "   8.  8.  8.  8.  8.  8.  8.  8.  8.  8.]\n",
      " [ 8.  8.  8.  8.  8.  8.  8.  8.  8.  8.  8.  8.  8.  8.  8.  8.  8.  8.\n",
      "   8.  8.  8.  8.  8.  8.  8.  8.  8.  8.]\n",
      " [ 8.  8.  8.  8.  8.  8.  8.  8.  8.  8.  8.  8.  8.  8.  8.  8.  8.  8.\n",
      "   8.  8.  8.  8.  8.  8.  8.  8.  8.  8.]\n",
      " [ 8.  8.  8.  8.  8.  8.  8.  8.  8.  8.  8.  8.  8.  8.  8.  8.  8.  8.\n",
      "   8.  8.  8.  8.  8.  8.  8.  8.  8.  8.]\n",
      " [ 8.  8.  8.  8.  8.  8.  8.  8.  8.  8.  8.  8.  8.  8.  8.  8.  8.  8.\n",
      "   8.  8.  8.  8.  8.  8.  8.  8.  8.  8.]\n",
      " [ 8.  8.  8.  8.  8.  8.  8.  8.  8.  8.  8.  8.  8.  8.  8.  8.  8.  8.\n",
      "   8.  8.  8.  8.  8.  8.  8.  8.  8.  8.]\n",
      " [ 8.  8.  8.  8.  8.  8.  8.  8.  8.  8.  8.  8.  8.  8.  8.  8.  8.  8.\n",
      "   8.  8.  8.  8.  8.  8.  8.  8.  8.  8.]\n",
      " [ 8.  8.  8.  8.  8.  8.  8.  8.  8.  8.  8.  8.  8.  8.  8.  8.  8.  8.\n",
      "   8.  8.  8.  8.  8.  8.  8.  8.  8.  8.]\n",
      " [ 8.  8.  8.  8.  8.  8.  8.  8.  8.  8.  8.  8.  8.  8.  8.  8.  8.  8.\n",
      "   8.  8.  8.  8.  8.  8.  8.  8.  8.  8.]]\n"
     ]
    }
   ],
   "source": [
    "out = ot\n",
    "print out[1].reshape((28, 28))"
   ]
  },
  {
   "cell_type": "code",
   "execution_count": 76,
   "metadata": {
    "collapsed": false,
    "scrolled": false
   },
   "outputs": [
    {
     "data": {
      "image/png": "[encoded data removed]",
      "text/plain": [
       "<matplotlib.figure.Figure at 0x7efc79e54210>"
      ]
     },
     "metadata": {},
     "output_type": "display_data"
    }
   ],
   "source": [
    "ix = 10\n",
    "#plt.subplot(1, 2, 1)\n",
    "plt.imshow(out[ix].reshape((28, 28)), cmap='gray')\n",
    "#plt.subplot(1, 2, 2)\n",
    "#plt.imshow(X_train[ix].reshape((28, 28)), cmap='gray')\n",
    "plt.show()"
   ]
  },
  {
   "cell_type": "code",
   "execution_count": null,
   "metadata": {
    "collapsed": true
   },
   "outputs": [],
   "source": []
  }
 ],
 "metadata": {
  "kernelspec": {
   "display_name": "Python 2",
   "language": "python",
   "name": "python2"
  },
  "language_info": {
   "codemirror_mode": {
    "name": "ipython",
    "version": 2
   },
   "file_extension": ".py",
   "mimetype": "text/x-python",
   "name": "python",
   "nbconvert_exporter": "python",
   "pygments_lexer": "ipython2",
   "version": "2.7.12"
  }
 },
 "nbformat": 4,
 "nbformat_minor": 2
}
