{
 "cells": [
  {
   "cell_type": "code",
   "execution_count": 1,
   "metadata": {
    "collapsed": true
   },
   "outputs": [],
   "source": [
    "import numpy as np\n",
    "import random\n",
    "from matplotlib import pyplot as plt\n",
    "%matplotlib inline"
   ]
  },
  {
   "cell_type": "code",
   "execution_count": 2,
   "metadata": {
    "collapsed": false
   },
   "outputs": [
    {
     "name": "stdout",
     "output_type": "stream",
     "text": [
      "[ 1.53605874  0.97791895]\n"
     ]
    }
   ],
   "source": [
    "N_POP = 100\n",
    "N_GEN = 20\n",
    "\n",
    "N_DIM = 2\n",
    "\n",
    "F = 0.5\n",
    "CR = 0.5\n",
    "\n",
    "random_shift = 2*np.random.random((N_DIM))\n",
    "print random_shift"
   ]
  },
  {
   "cell_type": "code",
   "execution_count": 20,
   "metadata": {
    "collapsed": true
   },
   "outputs": [],
   "source": [
    "def loss(x):\n",
    "    n_dim = x.shape[0]\n",
    "    \n",
    "    # Sphere\n",
    "    y = np.sum((random_shift + x)**2)\n",
    "    return y\n",
    "\n",
    "\n",
    "def generate_random_point(n_dim=N_DIM, lim=10):\n",
    "    pt = (2*np.random.random((n_dim,))-1)*lim\n",
    "    return pt\n",
    "\n",
    "pop = [generate_random_point() for ix in range(N_POP)]\n",
    "temp = []"
   ]
  },
  {
   "cell_type": "code",
   "execution_count": 21,
   "metadata": {
    "collapsed": false,
    "scrolled": false
   },
   "outputs": [
    {
     "name": "stdout",
     "output_type": "stream",
     "text": [
      "Best loss: 4.1177938188 [-0.89108622  0.9460884 ]\n",
      "Best loss: 4.1177938188 [-0.89108622  0.9460884 ]\n",
      "Best loss: 1.50118526642 [-2.08984937  0.11501344]\n",
      "Best loss: 0.579470348565 [-0.89108622 -1.38224653]\n",
      "Best loss: 0.374478246274 [-2.08984937 -1.23829212]\n",
      "Best loss: 0.248505387938 [-1.82764852 -1.38224653]\n",
      "Best loss: 0.223798210632 [-1.83912484 -1.34116701]\n",
      "Best loss: 0.0684560556361 [-1.5617855  -1.23829212]\n",
      "Best loss: 0.0439413288574 [-1.34875816 -1.07204558]\n",
      "Best loss: 0.0439413288574 [-1.34875816 -1.07204558]\n"
     ]
    }
   ],
   "source": [
    "for gen in range(N_GEN):\n",
    "    ord_pop = sorted(pop, key=lambda x: loss(x))\n",
    "    best = ord_pop[0]\n",
    "    print \"Best loss:\", loss(best), best\n",
    "    \n",
    "    for ix in range(N_POP):\n",
    "        x = pop[ix]\n",
    "        a, b, c = random.sample(pop, 3)\n",
    "        while (list(a) == list(x)) or (list(b) == list(x)) or (list(c) == list(x)):\n",
    "            a, b, c = random.sample(pop, 3)\n",
    "        \n",
    "        t = x + F*(b-c)\n",
    "        # print t\n",
    "        \n",
    "        R = int(np.random.random() * N_DIM)\n",
    "        y = np.copy(x)\n",
    "        \n",
    "        for j in range(N_DIM):\n",
    "            if (np.random.random() < CR) or (j==R):\n",
    "                y[j] = t[j]\n",
    "            else:\n",
    "                y[j] = x[j]\n",
    "        \n",
    "        if loss(y) < loss(x):\n",
    "            pop[ix] = y\n",
    "        else:\n",
    "            pass"
   ]
  },
  {
   "cell_type": "code",
   "execution_count": null,
   "metadata": {
    "collapsed": true
   },
   "outputs": [],
   "source": []
  }
 ],
 "metadata": {
  "kernelspec": {
   "display_name": "Python 2",
   "language": "python",
   "name": "python2"
  },
  "language_info": {
   "codemirror_mode": {
    "name": "ipython",
    "version": 2
   },
   "file_extension": ".py",
   "mimetype": "text/x-python",
   "name": "python",
   "nbconvert_exporter": "python",
   "pygments_lexer": "ipython2",
   "version": "2.7.12"
  }
 },
 "nbformat": 4,
 "nbformat_minor": 2
}
