{
 "cells": [
  {
   "cell_type": "code",
   "execution_count": 2,
   "metadata": {
    "collapsed": true
   },
   "outputs": [],
   "source": [
    "import numpy as np\n",
    "from matplotlib import pyplot as plt\n",
    "%matplotlib inline\n",
    "import random"
   ]
  },
  {
   "cell_type": "code",
   "execution_count": 3,
   "metadata": {
    "collapsed": false
   },
   "outputs": [
    {
     "name": "stdout",
     "output_type": "stream",
     "text": [
      "[ 0.17259725  0.9901605   1.40479023  0.57168203  1.00582274  0.24535083\n",
      "  0.93976305  1.82623926  0.86219471  0.34885689  1.5135245   0.57898759\n",
      "  1.82691556  0.08030358  0.44759982  0.86060237  0.13561777  0.98102143\n",
      "  1.15049745  0.67879887  0.25888049  1.91217147  1.51100746  1.36880012\n",
      "  0.78759057  1.5161371   1.93893537  0.40213288  1.92542477  1.84358738\n",
      "  0.64676934  1.38586965  1.42009488  0.67691884  1.62623833  0.85531735\n",
      "  0.24089423  1.75327869  0.3103015   1.68050432  0.5993795   0.61156094\n",
      "  0.89756934  1.61891842  0.5743545   1.18276564  1.76870254  1.0035871\n",
      "  1.8776051   1.71511012  1.83084204  1.38238879  1.56761245  1.36510378\n",
      "  1.82871737  0.330186    0.93852888  0.73202608  1.02028402  1.47401279\n",
      "  0.8443909   0.83988541  0.52744024  0.74029076  1.36194203  0.17929241\n",
      "  0.11077466  0.18083429  0.31961592  1.1548268   1.63289128  0.1240315\n",
      "  1.29022613  0.30476033  1.78438847  1.24487197  0.54041516  0.47536482\n",
      "  1.38404301  0.30427517  0.03787978  1.96529149  0.67368948  1.87898531\n",
      "  1.00244392  0.05785993  0.32753774  1.12981646  0.50624622  0.64809522\n",
      "  1.13180301  1.27533379  1.76336071  1.33279432  1.75892494  0.51121955\n",
      "  0.87947879  0.82669008  1.7323843   0.41917751]\n"
     ]
    }
   ],
   "source": [
    "N_POP = 200\n",
    "N_GEN = 100\n",
    "\n",
    "N_DIM = 100\n",
    "\n",
    "MUT = 0.05\n",
    "CROSS = 0.5\n",
    "\n",
    "random_shift = 2*np.random.random((N_DIM))\n",
    "print random_shift"
   ]
  },
  {
   "cell_type": "code",
   "execution_count": 11,
   "metadata": {
    "collapsed": false
   },
   "outputs": [],
   "source": [
    "def loss(x):\n",
    "    n_dim = x.shape[0]\n",
    "    \n",
    "    # Sphere\n",
    "    y = np.sum((random_shift + x)**2)\n",
    "    return y\n",
    "\n",
    "\n",
    "def generate_random_point(n_dim=N_DIM, lim=20):\n",
    "    pt = (2*np.random.random((n_dim,))-1)*lim\n",
    "    return (pt, loss(pt))\n",
    "\n",
    "pop = [generate_random_point() for ix in range(N_POP)]\n",
    "temp = []\n",
    "\n",
    "def crossover(p1, p2):\n",
    "    n_dim = p1.shape[0]\n",
    "    \n",
    "    c1 = np.zeros(p1.shape)\n",
    "    c2 = np.zeros(p2.shape)\n",
    "    \n",
    "    split = int(n_dim * CROSS)\n",
    "    \n",
    "    if split == 0:\n",
    "        c1 = p1\n",
    "        c2 = p2\n",
    "    else:\n",
    "        c1[:split] = p1[:split]\n",
    "        c1[split:] = p2[split:]\n",
    "        \n",
    "        c2[:split] = p2[:split]\n",
    "        c2[split:] = p1[split:]\n",
    "    return c1, c2\n",
    "\n",
    "def mutate(x):\n",
    "    n_dim = x.shape[0]\n",
    "    X = np.zeros(x.shape)\n",
    "    \n",
    "    for ix in range(n_dim):\n",
    "        r = np.random.random()\n",
    "        if r < MUT:\n",
    "            # mutate\n",
    "            X[ix] = x[ix] + (2*np.random.random() - 1)\n",
    "        else:\n",
    "            X[ix] = x[ix]\n",
    "    return X"
   ]
  },
  {
   "cell_type": "code",
   "execution_count": 12,
   "metadata": {
    "collapsed": true
   },
   "outputs": [],
   "source": [
    "losses = []"
   ]
  },
  {
   "cell_type": "code",
   "execution_count": 13,
   "metadata": {
    "collapsed": false,
    "scrolled": false
   },
   "outputs": [
    {
     "name": "stdout",
     "output_type": "stream",
     "text": [
      "10206.1086401\n",
      "9603.45220086\n",
      "8678.15128946\n",
      "8678.15128946\n",
      "8567.72498656\n",
      "8542.18123775\n",
      "8542.18123775\n",
      "8516.15818111\n",
      "8475.15816463\n",
      "8469.51698022\n",
      "8417.72268457\n",
      "8387.57313933\n",
      "8359.90374128\n",
      "8292.24443864\n",
      "8274.15255871\n",
      "8186.86649542\n",
      "8186.86649542\n",
      "8168.87191856\n",
      "8128.20390119\n",
      "8051.12793354\n",
      "8034.2891202\n",
      "8000.97271926\n",
      "7945.90376031\n",
      "7879.04429241\n",
      "7879.04429241\n",
      "7844.51221639\n",
      "7799.77309011\n",
      "7755.92125273\n",
      "7719.80625375\n",
      "7679.57511454\n",
      "7628.48044163\n",
      "7592.02691998\n",
      "7564.89682243\n",
      "7515.934457\n",
      "7492.3715109\n",
      "7438.86869721\n",
      "7402.14365338\n",
      "7380.52770567\n",
      "7356.81952881\n",
      "7343.87112095\n",
      "7274.56335408\n",
      "7208.38176811\n",
      "7184.69723436\n",
      "7125.56148313\n",
      "7125.56148313\n",
      "7076.07726126\n",
      "7042.14438862\n",
      "6991.21024921\n",
      "6978.90729107\n",
      "6918.21075928\n",
      "6899.58129648\n",
      "6861.65734238\n",
      "6838.4092258\n",
      "6819.1581356\n",
      "6779.86278782\n",
      "6722.61743596\n",
      "6706.45863199\n",
      "6674.08117788\n",
      "6654.96547826\n",
      "6619.43301668\n",
      "6582.14739487\n",
      "6567.37313239\n",
      "6516.6835255\n",
      "6468.64429737\n",
      "6450.94432607\n",
      "6400.79445579\n",
      "6354.30138201\n",
      "6291.63195496\n",
      "6287.85614528\n",
      "6228.68772847\n",
      "6201.73331958\n",
      "6138.72397617\n",
      "6121.889263\n",
      "6079.73039898\n",
      "6046.41753243\n",
      "6028.91961541\n",
      "5971.9005637\n",
      "5950.94472328\n",
      "5908.53182857\n",
      "5889.40918372\n",
      "5837.16788878\n",
      "5812.84552092\n",
      "5797.00341252\n",
      "5750.69069176\n",
      "5740.13906882\n",
      "5730.26552408\n",
      "5633.33879844\n",
      "5633.33879844\n",
      "5616.59302695\n",
      "5563.77756901\n",
      "5511.62860272\n",
      "5481.1740943\n",
      "5454.63658233\n",
      "5435.54720867\n",
      "5407.88640812\n",
      "5378.62014069\n",
      "5346.87865023\n",
      "5333.79290221\n",
      "5315.27139732\n",
      "5278.43026489\n"
     ]
    }
   ],
   "source": [
    "for gen in range(N_GEN):\n",
    "    # sort the population\n",
    "    ord_pop = sorted(pop, key=lambda x: x[1])\n",
    "    best = ord_pop[0]\n",
    "    print best[1]#, best[0]\n",
    "    losses.append(best[1])\n",
    "    \n",
    "    # create temp population\n",
    "    temp = []\n",
    "    \n",
    "    while len(temp) < N_POP:\n",
    "        # select p1 and p2 (parents)\n",
    "        p1, p2 = random.sample(ord_pop[:N_POP/2], 2)\n",
    "        \n",
    "        # apply crossover to generate c1 and c2 (children)\n",
    "        c1, c2 = crossover(p1[0], p2[0])        \n",
    "        \n",
    "        # apply mutation on c1 and c2\n",
    "        c1 = mutate(c1)\n",
    "        c2 = mutate(c2)\n",
    "        \n",
    "        t = [p1, p2, (c1, loss(c1)), (c2, loss(c2))]\n",
    "        t_sorted = sorted(t, key=lambda x: x[1])\n",
    "        # save the best of p1, p2, c1, c2 in temp\n",
    "        \n",
    "        temp += t_sorted[:2]\n",
    "        \n",
    "    # replace population with temp\n",
    "    pop = temp"
   ]
  },
  {
   "cell_type": "code",
   "execution_count": 14,
   "metadata": {
    "collapsed": false
   },
   "outputs": [
    {
     "data": {
      "text/plain": [
       "[<matplotlib.lines.Line2D at 0x7f1ab49620d0>]"
      ]
     },
     "execution_count": 14,
     "metadata": {},
     "output_type": "execute_result"
    },
    {
     "data": {
      "image/png": "[encoded data removed]",
      "text/plain": [
       "<matplotlib.figure.Figure at 0x7f1ab4a2a690>"
      ]
     },
     "metadata": {},
     "output_type": "display_data"
    }
   ],
   "source": [
    "plt.plot(losses)"
   ]
  },
  {
   "cell_type": "code",
   "execution_count": null,
   "metadata": {
    "collapsed": true
   },
   "outputs": [],
   "source": []
  }
 ],
 "metadata": {
  "kernelspec": {
   "display_name": "Python 2",
   "language": "python",
   "name": "python2"
  },
  "language_info": {
   "codemirror_mode": {
    "name": "ipython",
    "version": 2
   },
   "file_extension": ".py",
   "mimetype": "text/x-python",
   "name": "python",
   "nbconvert_exporter": "python",
   "pygments_lexer": "ipython2",
   "version": "2.7.12"
  }
 },
 "nbformat": 4,
 "nbformat_minor": 2
}
