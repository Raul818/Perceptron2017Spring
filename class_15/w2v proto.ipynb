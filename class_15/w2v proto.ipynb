{
 "cells": [
  {
   "cell_type": "code",
   "execution_count": 11,
   "metadata": {
    "collapsed": false
   },
   "outputs": [],
   "source": [
    "import numpy as np\n",
    "from matplotlib import pyplot as plt\n",
    "import pickle as pk\n",
    "%matplotlib inline\n",
    "\n",
    "import keras\n",
    "from keras.layers import Dense, Activation, Input, Dropout\n",
    "from keras.models import Model"
   ]
  },
  {
   "cell_type": "code",
   "execution_count": 12,
   "metadata": {
    "collapsed": true
   },
   "outputs": [],
   "source": [
    "f = open('./data.txt')\n",
    "d = f.read()\n",
    "f.close()\n",
    "\n",
    "data = d[1260:]\n",
    "data = data.lower().decode('utf-8')\n",
    "import re\n",
    "\n",
    "p = re.sub('[^A-Za-z]+', ' ', data)\n",
    "ds = p.split()"
   ]
  },
  {
   "cell_type": "code",
   "execution_count": 13,
   "metadata": {
    "collapsed": false
   },
   "outputs": [
    {
     "name": "stdout",
     "output_type": "stream",
     "text": [
      "1781 1781 (35456, 1781)\n"
     ]
    }
   ],
   "source": [
    "bow = pk.load(open('./bow.pkl', 'rb'))\n",
    "rev_bow = pk.load(open('./rev_bow.pkl', 'rb'))\n",
    "vecs = np.load('./all_word_data.npy')\n",
    "\n",
    "print len(bow.keys()), len(rev_bow.keys()), vecs.shape"
   ]
  },
  {
   "cell_type": "code",
   "execution_count": 14,
   "metadata": {
    "collapsed": false
   },
   "outputs": [
    {
     "name": "stdout",
     "output_type": "stream",
     "text": [
      "it\n",
      "is\n",
      "often\n",
      "enough\n",
      "and\n",
      "always\n",
      "with\n",
      "great\n",
      "to\n",
      "me\n"
     ]
    }
   ],
   "source": [
    "for ix in range(10):\n",
    "    print bow[vecs[ix].argmax()]"
   ]
  },
  {
   "cell_type": "code",
   "execution_count": 15,
   "metadata": {
    "collapsed": false
   },
   "outputs": [],
   "source": [
    "X = np.zeros((vecs.shape[0]-1, vecs.shape[1]*2))\n",
    "\n",
    "for ix in range(X.shape[0]-1):\n",
    "    X[ix] = np.hstack((vecs[ix], vecs[ix+1]))"
   ]
  },
  {
   "cell_type": "code",
   "execution_count": 16,
   "metadata": {
    "collapsed": false
   },
   "outputs": [],
   "source": [
    "y = vecs[1:]"
   ]
  },
  {
   "cell_type": "code",
   "execution_count": 17,
   "metadata": {
    "collapsed": false
   },
   "outputs": [
    {
     "name": "stdout",
     "output_type": "stream",
     "text": [
      "(35455, 3562) (35455, 1781)\n"
     ]
    }
   ],
   "source": [
    "print X.shape, y.shape"
   ]
  },
  {
   "cell_type": "code",
   "execution_count": 18,
   "metadata": {
    "collapsed": false
   },
   "outputs": [
    {
     "name": "stdout",
     "output_type": "stream",
     "text": [
      "(30136, 3562) (5319, 3562)\n",
      "(30136, 1781) (5319, 1781)\n"
     ]
    }
   ],
   "source": [
    "split = int(0.85 * X.shape[0])\n",
    "\n",
    "X_train = X[:split]\n",
    "X_val = X[split:]\n",
    "y_train = y[:split]\n",
    "y_val = y[split:]\n",
    "\n",
    "print X_train.shape, X_val.shape\n",
    "print y_train.shape, y_val.shape"
   ]
  },
  {
   "cell_type": "code",
   "execution_count": 19,
   "metadata": {
    "collapsed": false
   },
   "outputs": [
    {
     "name": "stdout",
     "output_type": "stream",
     "text": [
      "____________________________________________________________________________________________________\n",
      "Layer (type)                     Output Shape          Param #     Connected to                     \n",
      "====================================================================================================\n",
      "input_4 (InputLayer)             (None, 3562)          0                                            \n",
      "____________________________________________________________________________________________________\n",
      "dense_7 (Dense)                  (None, 50)            178150      input_4[0][0]                    \n",
      "____________________________________________________________________________________________________\n",
      "dropout_4 (Dropout)              (None, 50)            0           dense_7[0][0]                    \n",
      "____________________________________________________________________________________________________\n",
      "dense_8 (Dense)                  (None, 1781)          90831       dropout_4[0][0]                  \n",
      "====================================================================================================\n",
      "Total params: 268,981\n",
      "Trainable params: 268,981\n",
      "Non-trainable params: 0\n",
      "____________________________________________________________________________________________________\n"
     ]
    }
   ],
   "source": [
    "embedding = 50\n",
    "\n",
    "inp = Input(shape=(3562,))\n",
    "emb = Dense(embedding, activation='tanh')(inp)\n",
    "emb = Dropout(0.32)(emb)\n",
    "out = Dense(1781, activation='softmax')(emb)\n",
    "\n",
    "model = Model(input=inp, output=out)\n",
    "model.summary()\n",
    "model.compile(loss='categorical_crossentropy', optimizer='adam', metrics=['accuracy'])\n",
    "encoder = Model(input=inp, output=emb)\n"
   ]
  },
  {
   "cell_type": "code",
   "execution_count": 20,
   "metadata": {
    "collapsed": false,
    "scrolled": false
   },
   "outputs": [
    {
     "name": "stdout",
     "output_type": "stream",
     "text": [
      "Train on 30136 samples, validate on 5319 samples\n",
      "Epoch 1/30\n",
      "2s - loss: 5.9900 - acc: 0.1854 - val_loss: 5.3791 - val_acc: 0.2632\n",
      "Epoch 2/30\n",
      "2s - loss: 4.1825 - acc: 0.3621 - val_loss: 4.4130 - val_acc: 0.4247\n",
      "Epoch 3/30\n",
      "2s - loss: 3.2200 - acc: 0.5340 - val_loss: 3.7196 - val_acc: 0.5486\n",
      "Epoch 4/30\n",
      "1s - loss: 2.4957 - acc: 0.6646 - val_loss: 3.2538 - val_acc: 0.6056\n",
      "Epoch 5/30\n",
      "2s - loss: 2.0052 - acc: 0.7413 - val_loss: 2.9285 - val_acc: 0.6682\n",
      "Epoch 6/30\n",
      "2s - loss: 1.6483 - acc: 0.7999 - val_loss: 2.6803 - val_acc: 0.7033\n",
      "Epoch 7/30\n",
      "2s - loss: 1.3727 - acc: 0.8434 - val_loss: 2.4946 - val_acc: 0.7302\n",
      "Epoch 8/30\n",
      "2s - loss: 1.1511 - acc: 0.8777 - val_loss: 2.3584 - val_acc: 0.7451\n",
      "Epoch 9/30\n",
      "2s - loss: 0.9690 - acc: 0.9007 - val_loss: 2.2634 - val_acc: 0.7578\n",
      "Epoch 10/30\n",
      "2s - loss: 0.8195 - acc: 0.9172 - val_loss: 2.1881 - val_acc: 0.7659\n",
      "Epoch 11/30\n",
      "2s - loss: 0.6923 - acc: 0.9331 - val_loss: 2.1215 - val_acc: 0.7768\n",
      "Epoch 12/30\n",
      "2s - loss: 0.5847 - acc: 0.9452 - val_loss: 2.0628 - val_acc: 0.7827\n",
      "Epoch 13/30\n",
      "2s - loss: 0.4951 - acc: 0.9565 - val_loss: 2.0048 - val_acc: 0.7872\n",
      "Epoch 14/30\n",
      "2s - loss: 0.4167 - acc: 0.9663 - val_loss: 1.9503 - val_acc: 0.7943\n",
      "Epoch 15/30\n",
      "2s - loss: 0.3496 - acc: 0.9745 - val_loss: 1.8970 - val_acc: 0.8024\n",
      "Epoch 16/30\n",
      "2s - loss: 0.2905 - acc: 0.9821 - val_loss: 1.8503 - val_acc: 0.8107\n",
      "Epoch 17/30\n",
      "2s - loss: 0.2408 - acc: 0.9875 - val_loss: 1.8032 - val_acc: 0.8180\n",
      "Epoch 18/30\n",
      "2s - loss: 0.1986 - acc: 0.9906 - val_loss: 1.7565 - val_acc: 0.8255\n",
      "Epoch 19/30\n",
      "2s - loss: 0.1627 - acc: 0.9929 - val_loss: 1.7163 - val_acc: 0.8297\n",
      "Epoch 20/30\n",
      "2s - loss: 0.1343 - acc: 0.9948 - val_loss: 1.6794 - val_acc: 0.8332\n",
      "Epoch 21/30\n",
      "2s - loss: 0.1117 - acc: 0.9966 - val_loss: 1.6413 - val_acc: 0.8368\n",
      "Epoch 22/30\n",
      "2s - loss: 0.0916 - acc: 0.9973 - val_loss: 1.6074 - val_acc: 0.8402\n",
      "Epoch 23/30\n",
      "2s - loss: 0.0754 - acc: 0.9980 - val_loss: 1.5749 - val_acc: 0.8417\n",
      "Epoch 24/30\n",
      "2s - loss: 0.0631 - acc: 0.9985 - val_loss: 1.5441 - val_acc: 0.8447\n",
      "Epoch 25/30\n",
      "2s - loss: 0.0532 - acc: 0.9988 - val_loss: 1.5167 - val_acc: 0.8472\n",
      "Epoch 26/30\n",
      "2s - loss: 0.0439 - acc: 0.9990 - val_loss: 1.4912 - val_acc: 0.8485\n",
      "Epoch 27/30\n",
      "2s - loss: 0.0380 - acc: 0.9991 - val_loss: 1.4675 - val_acc: 0.8515\n",
      "Epoch 28/30\n",
      "2s - loss: 0.0304 - acc: 0.9996 - val_loss: 1.4476 - val_acc: 0.8530\n",
      "Epoch 29/30\n",
      "2s - loss: 0.0270 - acc: 0.9996 - val_loss: 1.4273 - val_acc: 0.8579\n",
      "Epoch 30/30\n",
      "2s - loss: 0.0222 - acc: 0.9995 - val_loss: 1.4114 - val_acc: 0.8624\n"
     ]
    }
   ],
   "source": [
    "hist = model.fit(X_train, y_train,\n",
    "                nb_epoch=30,\n",
    "                shuffle=True,\n",
    "                batch_size=100,\n",
    "                validation_data=(X_val, y_val), verbose=2)"
   ]
  },
  {
   "cell_type": "code",
   "execution_count": 21,
   "metadata": {
    "collapsed": false
   },
   "outputs": [
    {
     "data": {
      "text/plain": [
       "[<matplotlib.lines.Line2D at 0x7f12aeb6f990>]"
      ]
     },
     "execution_count": 21,
     "metadata": {},
     "output_type": "execute_result"
    },
    {
     "data": {
      "image/png": "[encoded data removed]",
      "text/plain": [
       "<matplotlib.figure.Figure at 0x7f12b37d3190>"
      ]
     },
     "metadata": {},
     "output_type": "display_data"
    },
    {
     "data": {
      "image/png": "[encoded data removed]",
      "text/plain": [
       "<matplotlib.figure.Figure at 0x7f12ae8dbb90>"
      ]
     },
     "metadata": {},
     "output_type": "display_data"
    }
   ],
   "source": [
    "th = hist.history\n",
    "\n",
    "plt.figure(0)\n",
    "plt.plot(th['loss'], 'b')\n",
    "plt.plot(th['val_loss'], 'g')\n",
    "\n",
    "plt.figure(1)\n",
    "plt.plot(th['acc'], 'b')\n",
    "plt.plot(th['val_acc'], 'g')"
   ]
  },
  {
   "cell_type": "code",
   "execution_count": 22,
   "metadata": {
    "collapsed": false
   },
   "outputs": [],
   "source": [
    "a = encoder.predict(X)\n",
    "# print a[0]"
   ]
  },
  {
   "cell_type": "code",
   "execution_count": 30,
   "metadata": {
    "collapsed": false
   },
   "outputs": [
    {
     "name": "stdout",
     "output_type": "stream",
     "text": [
      "1781\n"
     ]
    }
   ],
   "source": [
    "w2v = {}\n",
    "alpha = 0.8\n",
    "for ix in range(X.shape[0]):\n",
    "    try:\n",
    "        old_vec = w2v[bow[y[ix].argmax()]]\n",
    "        new_vec = alpha*old_vec + (1-alpha)*a[ix]\n",
    "        w2v[bow[y[ix].argmax()]] = new_vec\n",
    "    except:\n",
    "        w2v[bow[y[ix].argmax()]] = a[ix]\n",
    "print len(w2v.keys())"
   ]
  },
  {
   "cell_type": "code",
   "execution_count": 25,
   "metadata": {
    "collapsed": false
   },
   "outputs": [],
   "source": [
    "def similarity(a1, a2):\n",
    "    return np.dot(a1, a2)/np.sqrt((a1**2).sum()*(a2**2).sum())"
   ]
  },
  {
   "cell_type": "code",
   "execution_count": 28,
   "metadata": {
    "collapsed": false
   },
   "outputs": [
    {
     "name": "stdout",
     "output_type": "stream",
     "text": [
      "0.294288\n"
     ]
    }
   ],
   "source": [
    "v1 = w2v['it']\n",
    "v2 = w2v['this']\n",
    "print similarity(v1, v2)"
   ]
  }
 ],
 "metadata": {
  "kernelspec": {
   "display_name": "Python 2",
   "language": "python",
   "name": "python2"
  },
  "language_info": {
   "codemirror_mode": {
    "name": "ipython",
    "version": 2
   },
   "file_extension": ".py",
   "mimetype": "text/x-python",
   "name": "python",
   "nbconvert_exporter": "python",
   "pygments_lexer": "ipython2",
   "version": "2.7.12"
  }
 },
 "nbformat": 4,
 "nbformat_minor": 2
}
