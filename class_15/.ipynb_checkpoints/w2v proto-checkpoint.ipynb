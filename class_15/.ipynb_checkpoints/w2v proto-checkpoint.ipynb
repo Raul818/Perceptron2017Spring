{
 "cells": [
  {
   "cell_type": "code",
   "execution_count": 18,
   "metadata": {
    "collapsed": false
   },
   "outputs": [],
   "source": [
    "import numpy as np\n",
    "from matplotlib import pyplot as plt\n",
    "import pickle as pk\n",
    "%matplotlib inline\n",
    "\n",
    "import keras\n",
    "from keras.layers import Dense, Activation, Input, Dropout\n",
    "from keras.models import Model"
   ]
  },
  {
   "cell_type": "code",
   "execution_count": 2,
   "metadata": {
    "collapsed": true
   },
   "outputs": [],
   "source": [
    "f = open('./data.txt')\n",
    "d = f.read()\n",
    "f.close()\n",
    "\n",
    "data = d[1260:]\n",
    "data = data.lower().decode('utf-8')\n",
    "import re\n",
    "\n",
    "p = re.sub('[^A-Za-z]+', ' ', data)\n",
    "ds = p.split()"
   ]
  },
  {
   "cell_type": "code",
   "execution_count": 3,
   "metadata": {
    "collapsed": false
   },
   "outputs": [
    {
     "name": "stdout",
     "output_type": "stream",
     "text": [
      "1781 1781 (35456, 1781)\n"
     ]
    }
   ],
   "source": [
    "bow = pk.load(open('./bow.pkl', 'rb'))\n",
    "rev_bow = pk.load(open('./rev_bow.pkl', 'rb'))\n",
    "vecs = np.load('./all_word_data.npy')\n",
    "\n",
    "print len(bow.keys()), len(rev_bow.keys()), vecs.shape"
   ]
  },
  {
   "cell_type": "code",
   "execution_count": 4,
   "metadata": {
    "collapsed": false
   },
   "outputs": [
    {
     "name": "stdout",
     "output_type": "stream",
     "text": [
      "it\n",
      "is\n",
      "often\n",
      "enough\n",
      "and\n",
      "always\n",
      "with\n",
      "great\n",
      "to\n",
      "me\n"
     ]
    }
   ],
   "source": [
    "for ix in range(10):\n",
    "    print bow[vecs[ix].argmax()]"
   ]
  },
  {
   "cell_type": "code",
   "execution_count": 5,
   "metadata": {
    "collapsed": false
   },
   "outputs": [],
   "source": [
    "X = np.zeros((vecs.shape[0]-1, vecs.shape[1]*2))\n",
    "\n",
    "for ix in range(X.shape[0]-1):\n",
    "    X[ix] = np.hstack((vecs[ix], vecs[ix+1]))"
   ]
  },
  {
   "cell_type": "code",
   "execution_count": 6,
   "metadata": {
    "collapsed": false
   },
   "outputs": [],
   "source": [
    "y = vecs[1:]"
   ]
  },
  {
   "cell_type": "code",
   "execution_count": 7,
   "metadata": {
    "collapsed": false
   },
   "outputs": [
    {
     "name": "stdout",
     "output_type": "stream",
     "text": [
      "(35455, 3562) (35455, 1781)\n"
     ]
    }
   ],
   "source": [
    "print X.shape, y.shape"
   ]
  },
  {
   "cell_type": "code",
   "execution_count": 8,
   "metadata": {
    "collapsed": false
   },
   "outputs": [
    {
     "name": "stdout",
     "output_type": "stream",
     "text": [
      "(30136, 3562) (5319, 3562)\n",
      "(30136, 1781) (5319, 1781)\n"
     ]
    }
   ],
   "source": [
    "split = int(0.85 * X.shape[0])\n",
    "\n",
    "X_train = X[:split]\n",
    "X_val = X[split:]\n",
    "y_train = y[:split]\n",
    "y_val = y[split:]\n",
    "\n",
    "print X_train.shape, X_val.shape\n",
    "print y_train.shape, y_val.shape"
   ]
  },
  {
   "cell_type": "code",
   "execution_count": 19,
   "metadata": {
    "collapsed": false
   },
   "outputs": [
    {
     "name": "stdout",
     "output_type": "stream",
     "text": [
      "____________________________________________________________________________________________________\n",
      "Layer (type)                     Output Shape          Param #     Connected to                     \n",
      "====================================================================================================\n",
      "input_5 (InputLayer)             (None, 3562)          0                                            \n",
      "____________________________________________________________________________________________________\n",
      "dense_9 (Dense)                  (None, 100)           356300      input_5[0][0]                    \n",
      "____________________________________________________________________________________________________\n",
      "dropout_1 (Dropout)              (None, 100)           0           dense_9[0][0]                    \n",
      "____________________________________________________________________________________________________\n",
      "dense_10 (Dense)                 (None, 1781)          179881      dropout_1[0][0]                  \n",
      "====================================================================================================\n",
      "Total params: 536,181\n",
      "Trainable params: 536,181\n",
      "Non-trainable params: 0\n",
      "____________________________________________________________________________________________________\n"
     ]
    }
   ],
   "source": [
    "embedding = 100\n",
    "\n",
    "inp = Input(shape=(3562,))\n",
    "emb = Dense(embedding, activation='tanh')(inp)\n",
    "emb = Dropout(0.4)(emb)\n",
    "out = Dense(1781, activation='softmax')(emb)\n",
    "\n",
    "model = Model(input=inp, output=out)\n",
    "model.summary()\n",
    "encoder = Model(input=inp, output=emb)\n",
    "\n",
    "model.compile(loss='categorical_crossentropy', optimizer='adam', metrics=['accuracy'])\n"
   ]
  },
  {
   "cell_type": "code",
   "execution_count": 20,
   "metadata": {
    "collapsed": false,
    "scrolled": false
   },
   "outputs": [
    {
     "name": "stdout",
     "output_type": "stream",
     "text": [
      "Train on 30136 samples, validate on 5319 samples\n",
      "Epoch 1/20\n",
      "2s - loss: 5.5191 - acc: 0.2789 - val_loss: 4.8046 - val_acc: 0.3487\n",
      "Epoch 2/20\n",
      "2s - loss: 3.4180 - acc: 0.5086 - val_loss: 3.7396 - val_acc: 0.5533\n",
      "Epoch 3/20\n",
      "2s - loss: 2.3811 - acc: 0.6899 - val_loss: 3.1671 - val_acc: 0.6426\n",
      "Epoch 4/20\n",
      "2s - loss: 1.7741 - acc: 0.7931 - val_loss: 2.7862 - val_acc: 0.7016\n",
      "Epoch 5/20\n",
      "1s - loss: 1.3638 - acc: 0.8654 - val_loss: 2.5089 - val_acc: 0.7437\n",
      "Epoch 6/20\n",
      "2s - loss: 1.0541 - acc: 0.9141 - val_loss: 2.3110 - val_acc: 0.7657\n",
      "Epoch 7/20\n",
      "2s - loss: 0.8161 - acc: 0.9420 - val_loss: 2.1582 - val_acc: 0.7836\n",
      "Epoch 8/20\n",
      "2s - loss: 0.6287 - acc: 0.9602 - val_loss: 2.0382 - val_acc: 0.7955\n",
      "Epoch 9/20\n",
      "2s - loss: 0.4827 - acc: 0.9738 - val_loss: 1.9429 - val_acc: 0.8054\n",
      "Epoch 10/20\n",
      "1s - loss: 0.3663 - acc: 0.9838 - val_loss: 1.8557 - val_acc: 0.8159\n",
      "Epoch 11/20\n",
      "1s - loss: 0.2741 - acc: 0.9902 - val_loss: 1.7796 - val_acc: 0.8253\n",
      "Epoch 12/20\n",
      "1s - loss: 0.2031 - acc: 0.9938 - val_loss: 1.7082 - val_acc: 0.8325\n",
      "Epoch 13/20\n",
      "1s - loss: 0.1490 - acc: 0.9963 - val_loss: 1.6516 - val_acc: 0.8391\n",
      "Epoch 14/20\n",
      "1s - loss: 0.1079 - acc: 0.9977 - val_loss: 1.5983 - val_acc: 0.8441\n",
      "Epoch 15/20\n",
      "2s - loss: 0.0784 - acc: 0.9983 - val_loss: 1.5462 - val_acc: 0.8507\n",
      "Epoch 16/20\n",
      "1s - loss: 0.0572 - acc: 0.9990 - val_loss: 1.4969 - val_acc: 0.8539\n",
      "Epoch 17/20\n",
      "1s - loss: 0.0428 - acc: 0.9993 - val_loss: 1.4569 - val_acc: 0.8552\n",
      "Epoch 18/20\n",
      "1s - loss: 0.0325 - acc: 0.9996 - val_loss: 1.4246 - val_acc: 0.8575\n",
      "Epoch 19/20\n",
      "2s - loss: 0.0247 - acc: 1.0000 - val_loss: 1.3941 - val_acc: 0.8599\n",
      "Epoch 20/20\n",
      "2s - loss: 0.0193 - acc: 1.0000 - val_loss: 1.3695 - val_acc: 0.8616\n"
     ]
    }
   ],
   "source": [
    "hist = model.fit(X_train, y_train,\n",
    "                nb_epoch=20,\n",
    "                shuffle=True,\n",
    "                batch_size=100,\n",
    "                validation_data=(X_val, y_val), verbose=2)"
   ]
  },
  {
   "cell_type": "code",
   "execution_count": 22,
   "metadata": {
    "collapsed": false
   },
   "outputs": [
    {
     "data": {
      "text/plain": [
       "[<matplotlib.lines.Line2D at 0x7f54204fbcd0>]"
      ]
     },
     "execution_count": 22,
     "metadata": {},
     "output_type": "execute_result"
    },
    {
     "data": {
      "image/png": "[encoded data removed]",
      "text/plain": [
       "<matplotlib.figure.Figure at 0x7f5420646490>"
      ]
     },
     "metadata": {},
     "output_type": "display_data"
    },
    {
     "data": {
      "image/png": "[encoded data removed]",
      "text/plain": [
       "<matplotlib.figure.Figure at 0x7f5420570ed0>"
      ]
     },
     "metadata": {},
     "output_type": "display_data"
    }
   ],
   "source": [
    "th = hist.history\n",
    "\n",
    "plt.figure(0)\n",
    "plt.plot(th['loss'], 'b')\n",
    "plt.plot(th['val_loss'], 'g')\n",
    "\n",
    "plt.figure(1)\n",
    "plt.plot(th['acc'], 'b')\n",
    "plt.plot(th['val_acc'], 'g')"
   ]
  },
  {
   "cell_type": "code",
   "execution_count": 39,
   "metadata": {
    "collapsed": false
   },
   "outputs": [],
   "source": [
    "a = encoder.predict(X)\n",
    "# print a[0]"
   ]
  },
  {
   "cell_type": "code",
   "execution_count": 40,
   "metadata": {
    "collapsed": false
   },
   "outputs": [],
   "source": [
    "w2v = {}\n",
    "alpha = 0.2\n",
    "for ix in range(10):\n",
    "    try:\n",
    "        old_vec = w2v[bow[y[ix].argmax()]]\n",
    "        new_vec = alpha*old_vec + (1-alpha)*a[ix]\n",
    "        w2v[bow[y[ix].argmax()]] = new_vec\n",
    "    except:\n",
    "        w2v[bow[y[ix].argmax()]] = a[ix]"
   ]
  },
  {
   "cell_type": "code",
   "execution_count": null,
   "metadata": {
    "collapsed": true
   },
   "outputs": [],
   "source": []
  }
 ],
 "metadata": {
  "kernelspec": {
   "display_name": "Python 2",
   "language": "python",
   "name": "python2"
  },
  "language_info": {
   "codemirror_mode": {
    "name": "ipython",
    "version": 2
   },
   "file_extension": ".py",
   "mimetype": "text/x-python",
   "name": "python",
   "nbconvert_exporter": "python",
   "pygments_lexer": "ipython2",
   "version": "2.7.12"
  }
 },
 "nbformat": 4,
 "nbformat_minor": 2
}
